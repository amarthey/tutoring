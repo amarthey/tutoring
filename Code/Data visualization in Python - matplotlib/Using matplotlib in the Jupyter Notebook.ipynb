{
 "cells": [
  {
   "cell_type": "markdown",
   "metadata": {},
   "source": [
    "# Using matplotlib in the Jupyter Notebook\n",
    "\n",
    "### Notebook by [Randal S. Olson](http://www.randalolson.com/)\n",
    "\n",
    "## License\n",
    "\n",
    "Please see the [repository README file](https://github.com/rhiever/python-data-visualization-course#license-and-usage-terms) for the licenses and usage terms for the instructional material and code in this notebook. In general, I have licensed this material so that it is as widely usable and shareable as possible."
   ]
  },
  {
   "cell_type": "code",
   "execution_count": 1,
   "metadata": {
    "collapsed": true
   },
   "outputs": [],
   "source": [
    "# Just some values that we'll be using in the examples below\n",
    "x1_values = [2012, 2013, 2014, 2015]\n",
    "y1_values = [4.3, 2.5, 3.5, 4.5]\n",
    "\n",
    "x2_values = [2012, 2013, 2014, 2015]\n",
    "y2_values = [2.4, 4.4, 1.8, 2.8]\n",
    "\n",
    "x3_values = [2012, 2013, 2014, 2015]\n",
    "y3_values = [2, 2, 3, 5]"
   ]
  },
  {
   "cell_type": "markdown",
   "metadata": {
    "collapsed": true
   },
   "source": [
    "# Why the Jupyter Notebook?\n",
    "\n",
    "### 1) Interactive\n",
    "\n",
    "### 2) Code in same place as figures\n",
    "\n",
    "### 3) Shareable"
   ]
  },
  {
   "cell_type": "code",
   "execution_count": null,
   "metadata": {
    "collapsed": true
   },
   "outputs": [],
   "source": []
  },
  {
   "cell_type": "code",
   "execution_count": null,
   "metadata": {
    "collapsed": true
   },
   "outputs": [],
   "source": []
  },
  {
   "cell_type": "code",
   "execution_count": null,
   "metadata": {
    "collapsed": true
   },
   "outputs": [],
   "source": []
  },
  {
   "cell_type": "code",
   "execution_count": null,
   "metadata": {
    "collapsed": true
   },
   "outputs": [],
   "source": []
  },
  {
   "cell_type": "code",
   "execution_count": null,
   "metadata": {
    "collapsed": true
   },
   "outputs": [],
   "source": []
  },
  {
   "cell_type": "code",
   "execution_count": 2,
   "metadata": {
    "collapsed": false
   },
   "outputs": [
    {
     "name": "stderr",
     "output_type": "stream",
     "text": [
      "/Users/randal_olson/anaconda/lib/python3.5/site-packages/matplotlib/__init__.py:872: UserWarning: axes.color_cycle is deprecated and replaced with axes.prop_cycle; please use the latter.\n",
      "  warnings.warn(self.msg_depr % (key, alt_key))\n"
     ]
    }
   ],
   "source": [
    "import matplotlib.pyplot as plt\n",
    "\n",
    "plt.figure()\n",
    "plt.plot(x1_values, y1_values, label='Python')\n",
    "plt.plot(x2_values, y2_values, label='JavaScript')\n",
    "plt.plot(x3_values, y3_values, label='R')\n",
    "\n",
    "plt.xlim(2012, 2015)\n",
    "plt.ylim(1, 5)\n",
    "plt.xticks([2012, 2013, 2014, 2015], ['2012', '2013', '2014', '2015'])\n",
    "plt.yticks([1, 2, 3, 4, 5])\n",
    "\n",
    "plt.xlabel('')\n",
    "plt.ylabel('Web Searches')\n",
    "\n",
    "plt.legend(loc='upper center', ncol=3)\n",
    "plt.grid()\n",
    "\n",
    "plt.savefig('web-searches.png', dpi=150)"
   ]
  },
  {
   "cell_type": "code",
   "execution_count": 3,
   "metadata": {
    "collapsed": true
   },
   "outputs": [],
   "source": [
    "!open web-searches.png"
   ]
  },
  {
   "cell_type": "code",
   "execution_count": null,
   "metadata": {
    "collapsed": true
   },
   "outputs": [],
   "source": []
  },
  {
   "cell_type": "code",
   "execution_count": null,
   "metadata": {
    "collapsed": true
   },
   "outputs": [],
   "source": []
  },
  {
   "cell_type": "code",
   "execution_count": null,
   "metadata": {
    "collapsed": true
   },
   "outputs": [],
   "source": []
  },
  {
   "cell_type": "code",
   "execution_count": 4,
   "metadata": {
    "collapsed": false
   },
   "outputs": [],
   "source": [
    "import matplotlib.pyplot as plt\n",
    "\n",
    "plt.figure()\n",
    "plt.plot(x1_values, y1_values, label='Python')\n",
    "plt.plot(x2_values, y2_values, label='JavaScript')\n",
    "plt.plot(x3_values, y3_values, label='R')\n",
    "\n",
    "plt.xlim(2012, 2015)\n",
    "plt.ylim(1, 5)\n",
    "plt.xticks([2012, 2013, 2014, 2015], ['2012', '2013', '2014', '2015'])\n",
    "plt.yticks([1, 2, 3, 4, 5])\n",
    "\n",
    "plt.xlabel('')\n",
    "plt.ylabel('Web Searches')\n",
    "\n",
    "plt.legend(loc='upper center', ncol=3)\n",
    "plt.grid()\n",
    "\n",
    "plt.show()"
   ]
  },
  {
   "cell_type": "code",
   "execution_count": null,
   "metadata": {
    "collapsed": true
   },
   "outputs": [],
   "source": []
  },
  {
   "cell_type": "code",
   "execution_count": null,
   "metadata": {
    "collapsed": true
   },
   "outputs": [],
   "source": []
  },
  {
   "cell_type": "code",
   "execution_count": null,
   "metadata": {
    "collapsed": true
   },
   "outputs": [],
   "source": []
  },
  {
   "cell_type": "code",
   "execution_count": null,
   "metadata": {
    "collapsed": true
   },
   "outputs": [],
   "source": []
  },
  {
   "cell_type": "code",
   "execution_count": null,
   "metadata": {
    "collapsed": true
   },
   "outputs": [],
   "source": []
  },
  {
   "cell_type": "code",
   "execution_count": null,
   "metadata": {
    "collapsed": true
   },
   "outputs": [],
   "source": []
  },
  {
   "cell_type": "code",
   "execution_count": null,
   "metadata": {
    "collapsed": true
   },
   "outputs": [],
   "source": []
  },
  {
   "cell_type": "code",
   "execution_count": null,
   "metadata": {
    "collapsed": true
   },
   "outputs": [],
   "source": []
  },
  {
   "cell_type": "code",
   "execution_count": null,
   "metadata": {
    "collapsed": true
   },
   "outputs": [],
   "source": []
  },
  {
   "cell_type": "code",
   "execution_count": null,
   "metadata": {
    "collapsed": true
   },
   "outputs": [],
   "source": []
  },
  {
   "cell_type": "code",
   "execution_count": 5,
   "metadata": {
    "collapsed": false
   },
   "outputs": [
    {
     "data": {
      "image/png": "[encoded data removed]",
      "text/plain": [
       "<matplotlib.figure.Figure at 0x105872d30>"
      ]
     },
     "metadata": {},
     "output_type": "display_data"
    }
   ],
   "source": [
    "%matplotlib inline\n",
    "\n",
    "import matplotlib.pyplot as plt\n",
    "\n",
    "plt.figure()\n",
    "plt.plot(x1_values, y1_values, label='Python')\n",
    "plt.plot(x2_values, y2_values, label='JavaScript')\n",
    "plt.plot(x3_values, y3_values, label='R')\n",
    "\n",
    "plt.xlim(2012, 2015)\n",
    "plt.ylim(1, 5)\n",
    "plt.xticks([2012, 2013, 2014, 2015], ['2012', '2013', '2014', '2015'])\n",
    "plt.yticks([1, 2, 3, 4, 5])\n",
    "\n",
    "plt.xlabel('')\n",
    "plt.ylabel('Web Searches')\n",
    "\n",
    "plt.legend(loc='upper center', ncol=3)\n",
    "plt.grid()\n",
    "\n",
    "plt.savefig('web-searches.png', dpi=150)"
   ]
  },
  {
   "cell_type": "code",
   "execution_count": null,
   "metadata": {
    "collapsed": true
   },
   "outputs": [],
   "source": []
  },
  {
   "cell_type": "code",
   "execution_count": null,
   "metadata": {
    "collapsed": true
   },
   "outputs": [],
   "source": []
  },
  {
   "cell_type": "code",
   "execution_count": null,
   "metadata": {
    "collapsed": true
   },
   "outputs": [],
   "source": []
  },
  {
   "cell_type": "code",
   "execution_count": null,
   "metadata": {
    "collapsed": true
   },
   "outputs": [],
   "source": []
  },
  {
   "cell_type": "code",
   "execution_count": null,
   "metadata": {
    "collapsed": true
   },
   "outputs": [],
   "source": []
  },
  {
   "cell_type": "code",
   "execution_count": null,
   "metadata": {
    "collapsed": true
   },
   "outputs": [],
   "source": []
  },
  {
   "cell_type": "code",
   "execution_count": null,
   "metadata": {
    "collapsed": true
   },
   "outputs": [],
   "source": []
  },
  {
   "cell_type": "code",
   "execution_count": null,
   "metadata": {
    "collapsed": true
   },
   "outputs": [],
   "source": []
  },
  {
   "cell_type": "code",
   "execution_count": null,
   "metadata": {
    "collapsed": true
   },
   "outputs": [],
   "source": []
  }
 ],
 "metadata": {
  "kernelspec": {
   "display_name": "Python 3",
   "language": "python",
   "name": "python3"
  },
  "language_info": {
   "codemirror_mode": {
    "name": "ipython",
    "version": 3
   },
   "file_extension": ".py",
   "mimetype": "text/x-python",
   "name": "python",
   "nbconvert_exporter": "python",
   "pygments_lexer": "ipython3",
   "version": "3.5.1"
  }
 },
 "nbformat": 4,
 "nbformat_minor": 0
}
