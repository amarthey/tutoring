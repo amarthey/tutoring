{
 "cells": [
  {
   "cell_type": "markdown",
   "metadata": {},
   "source": [
    "# matplotlib styles\n",
    "\n",
    "### Notebook by [Randal S. Olson](http://www.randalolson.com/)\n",
    "\n",
    "## License\n",
    "\n",
    "Please see the [repository README file](https://github.com/rhiever/python-data-visualization-course#license-and-usage-terms) for the licenses and usage terms for the instructional material and code in this notebook. In general, I have licensed this material so that it is as widely usable and shareable as possible."
   ]
  },
  {
   "cell_type": "code",
   "execution_count": 1,
   "metadata": {
    "collapsed": false
   },
   "outputs": [
    {
     "name": "stderr",
     "output_type": "stream",
     "text": [
      "/Users/randal_olson/anaconda/lib/python3.5/site-packages/matplotlib/__init__.py:872: UserWarning: axes.color_cycle is deprecated and replaced with axes.prop_cycle; please use the latter.\n",
      "  warnings.warn(self.msg_depr % (key, alt_key))\n"
     ]
    }
   ],
   "source": [
    "import matplotlib.pyplot as plt\n",
    "\n",
    "x1_values = [2012, 2013, 2014, 2015]\n",
    "y1_values = [4.3, 2.5, 3.5, 4.5]\n",
    "\n",
    "x2_values = [2012, 2013, 2014, 2015]\n",
    "y2_values = [2.4, 4.4, 1.8, 2.8]\n",
    "\n",
    "x3_values = [2012, 2013, 2014, 2015]\n",
    "y3_values = [2, 2, 3, 5]"
   ]
  },
  {
   "cell_type": "code",
   "execution_count": null,
   "metadata": {
    "collapsed": true
   },
   "outputs": [],
   "source": []
  },
  {
   "cell_type": "code",
   "execution_count": null,
   "metadata": {
    "collapsed": true
   },
   "outputs": [],
   "source": []
  },
  {
   "cell_type": "code",
   "execution_count": 2,
   "metadata": {
    "collapsed": false
   },
   "outputs": [
    {
     "data": {
      "image/png": "[encoded data removed]",
      "text/plain": [
       "<matplotlib.figure.Figure at 0x10b58e400>"
      ]
     },
     "metadata": {},
     "output_type": "display_data"
    }
   ],
   "source": [
    "%matplotlib inline\n",
    "\n",
    "import matplotlib.pyplot as plt\n",
    "\n",
    "plt.figure()\n",
    "plt.plot(x1_values, y1_values, label='Python')\n",
    "plt.plot(x2_values, y2_values, label='JavaScript')\n",
    "plt.plot(x3_values, y3_values, label='R')\n",
    "\n",
    "plt.xlim(2012, 2015)\n",
    "plt.ylim(0, 6)\n",
    "plt.xticks([2012, 2013, 2014, 2015], ['2012', '2013', '2014', '2015'])\n",
    "plt.yticks([1, 2, 3, 4, 5])\n",
    "\n",
    "plt.xlabel('')\n",
    "plt.ylabel('Web Searches')\n",
    "\n",
    "plt.legend(loc='upper center', ncol=3)\n",
    "plt.grid(True)\n",
    "\n",
    "plt.savefig('web-searches.png', dpi=150)"
   ]
  },
  {
   "cell_type": "code",
   "execution_count": null,
   "metadata": {
    "collapsed": true
   },
   "outputs": [],
   "source": []
  },
  {
   "cell_type": "code",
   "execution_count": null,
   "metadata": {
    "collapsed": true
   },
   "outputs": [],
   "source": []
  },
  {
   "cell_type": "code",
   "execution_count": null,
   "metadata": {
    "collapsed": true
   },
   "outputs": [],
   "source": []
  },
  {
   "cell_type": "code",
   "execution_count": null,
   "metadata": {
    "collapsed": true
   },
   "outputs": [],
   "source": []
  },
  {
   "cell_type": "code",
   "execution_count": null,
   "metadata": {
    "collapsed": true
   },
   "outputs": [],
   "source": []
  },
  {
   "cell_type": "code",
   "execution_count": 3,
   "metadata": {
    "collapsed": false
   },
   "outputs": [
    {
     "data": {
      "image/png": "[encoded data removed]",
      "text/plain": [
       "<matplotlib.figure.Figure at 0x10b5c6668>"
      ]
     },
     "metadata": {},
     "output_type": "display_data"
    }
   ],
   "source": [
    "%matplotlib inline\n",
    "\n",
    "import matplotlib.pyplot as plt\n",
    "\n",
    "plt.figure()\n",
    "plt.plot(x1_values, y1_values, label='Python', lw=3, color='#1f77b4')\n",
    "plt.plot(x2_values, y2_values, label='JavaScript', lw=3, color='#ff7f0e')\n",
    "plt.plot(x3_values, y3_values, label='R', lw=3, color='#2ca02c')\n",
    "\n",
    "plt.xlim(2012, 2015)\n",
    "plt.ylim(0, 6)\n",
    "plt.xticks([2012, 2013, 2014, 2015], ['2012', '2013', '2014', '2015'])\n",
    "plt.yticks([1, 2, 3, 4, 5])\n",
    "\n",
    "plt.xlabel('')\n",
    "plt.ylabel('Web Searches')\n",
    "\n",
    "plt.legend(loc='upper center', ncol=3)\n",
    "plt.grid(True)\n",
    "\n",
    "plt.savefig('web-searches.png', dpi=150)"
   ]
  },
  {
   "cell_type": "code",
   "execution_count": null,
   "metadata": {
    "collapsed": true
   },
   "outputs": [],
   "source": []
  },
  {
   "cell_type": "code",
   "execution_count": null,
   "metadata": {
    "collapsed": true
   },
   "outputs": [],
   "source": []
  },
  {
   "cell_type": "code",
   "execution_count": null,
   "metadata": {
    "collapsed": true
   },
   "outputs": [],
   "source": []
  },
  {
   "cell_type": "code",
   "execution_count": null,
   "metadata": {
    "collapsed": true
   },
   "outputs": [],
   "source": []
  },
  {
   "cell_type": "code",
   "execution_count": null,
   "metadata": {
    "collapsed": true
   },
   "outputs": [],
   "source": []
  },
  {
   "cell_type": "code",
   "execution_count": null,
   "metadata": {
    "collapsed": true
   },
   "outputs": [],
   "source": []
  },
  {
   "cell_type": "code",
   "execution_count": 4,
   "metadata": {
    "collapsed": false
   },
   "outputs": [
    {
     "name": "stderr",
     "output_type": "stream",
     "text": [
      "/Users/randal_olson/anaconda/lib/python3.5/site-packages/matplotlib/__init__.py:872: UserWarning: axes.color_cycle is deprecated and replaced with axes.prop_cycle; please use the latter.\n",
      "  warnings.warn(self.msg_depr % (key, alt_key))\n"
     ]
    },
    {
     "data": {
      "image/png": "[encoded data removed]",
      "text/plain": [
       "<matplotlib.figure.Figure at 0x10e8d1518>"
      ]
     },
     "metadata": {},
     "output_type": "display_data"
    }
   ],
   "source": [
    "%matplotlib inline\n",
    "\n",
    "import matplotlib.pyplot as plt\n",
    "\n",
    "plt.rcParams['axes.color_cycle'] = ['#1f77b4', '#ff7f0e', '#2ca02c']\n",
    "plt.rcParams['lines.linewidth'] = 3\n",
    "\n",
    "plt.figure()\n",
    "plt.plot(x1_values, y1_values, label='Python')\n",
    "plt.plot(x2_values, y2_values, label='JavaScript')\n",
    "plt.plot(x3_values, y3_values, label='R')\n",
    "\n",
    "plt.xlim(2012, 2015)\n",
    "plt.ylim(0, 6)\n",
    "plt.xticks([2012, 2013, 2014, 2015], ['2012', '2013', '2014', '2015'])\n",
    "plt.yticks([1, 2, 3, 4, 5])\n",
    "\n",
    "plt.xlabel('')\n",
    "plt.ylabel('Web Searches')\n",
    "\n",
    "plt.legend(loc='upper center', ncol=3)\n",
    "plt.grid(True)\n",
    "\n",
    "plt.savefig('web-searches.png', dpi=150)"
   ]
  },
  {
   "cell_type": "code",
   "execution_count": null,
   "metadata": {
    "collapsed": true
   },
   "outputs": [],
   "source": []
  },
  {
   "cell_type": "code",
   "execution_count": null,
   "metadata": {
    "collapsed": true
   },
   "outputs": [],
   "source": []
  },
  {
   "cell_type": "code",
   "execution_count": null,
   "metadata": {
    "collapsed": true
   },
   "outputs": [],
   "source": []
  },
  {
   "cell_type": "markdown",
   "metadata": {},
   "source": [
    "Customizing matplotlib rcParams: http://matplotlib.org/users/customizing.html#dynamic-rc-settings"
   ]
  },
  {
   "cell_type": "code",
   "execution_count": null,
   "metadata": {
    "collapsed": true
   },
   "outputs": [],
   "source": []
  },
  {
   "cell_type": "code",
   "execution_count": null,
   "metadata": {
    "collapsed": true
   },
   "outputs": [],
   "source": []
  },
  {
   "cell_type": "code",
   "execution_count": null,
   "metadata": {
    "collapsed": true
   },
   "outputs": [],
   "source": []
  },
  {
   "cell_type": "code",
   "execution_count": null,
   "metadata": {
    "collapsed": true
   },
   "outputs": [],
   "source": []
  },
  {
   "cell_type": "code",
   "execution_count": null,
   "metadata": {
    "collapsed": true
   },
   "outputs": [],
   "source": []
  },
  {
   "cell_type": "code",
   "execution_count": null,
   "metadata": {
    "collapsed": true
   },
   "outputs": [],
   "source": []
  },
  {
   "cell_type": "code",
   "execution_count": null,
   "metadata": {
    "collapsed": true
   },
   "outputs": [],
   "source": []
  },
  {
   "cell_type": "code",
   "execution_count": null,
   "metadata": {
    "collapsed": true
   },
   "outputs": [],
   "source": []
  },
  {
   "cell_type": "markdown",
   "metadata": {},
   "source": [
    "# matplotlib styling"
   ]
  },
  {
   "cell_type": "code",
   "execution_count": 5,
   "metadata": {
    "collapsed": false
   },
   "outputs": [
    {
     "data": {
      "text/plain": [
       "['seaborn-colorblind',\n",
       " 'seaborn-dark',\n",
       " 'seaborn-whitegrid',\n",
       " 'grayscale',\n",
       " 'bmh',\n",
       " 'seaborn-talk',\n",
       " 'fivethirtyeight',\n",
       " 'seaborn-notebook',\n",
       " 'classic',\n",
       " 'seaborn-white',\n",
       " 'seaborn-ticks',\n",
       " 'seaborn-poster',\n",
       " 'seaborn-muted',\n",
       " 'seaborn-deep',\n",
       " 'seaborn-bright',\n",
       " 'seaborn-paper',\n",
       " 'my_custom_style',\n",
       " 'seaborn-pastel',\n",
       " 'dark_background',\n",
       " 'tableau20',\n",
       " 'seaborn-darkgrid',\n",
       " 'seaborn-dark-palette',\n",
       " 'ggplot',\n",
       " 'tableau10']"
      ]
     },
     "execution_count": 5,
     "metadata": {},
     "output_type": "execute_result"
    }
   ],
   "source": [
    "plt.style.available"
   ]
  },
  {
   "cell_type": "code",
   "execution_count": 6,
   "metadata": {
    "collapsed": false
   },
   "outputs": [
    {
     "data": {
      "image/png": "[encoded data removed]",
      "text/plain": [
       "<matplotlib.figure.Figure at 0x10e89f278>"
      ]
     },
     "metadata": {},
     "output_type": "display_data"
    }
   ],
   "source": [
    "%matplotlib inline\n",
    "\n",
    "import matplotlib.pyplot as plt\n",
    "\n",
    "with plt.style.context('fivethirtyeight'):\n",
    "    plt.figure()\n",
    "    plt.plot(x1_values, y1_values, label='Python')\n",
    "    plt.plot(x2_values, y2_values, label='JavaScript')\n",
    "    plt.plot(x3_values, y3_values, label='R')\n",
    "\n",
    "    plt.xlim(2012, 2015)\n",
    "    plt.ylim(0, 6)\n",
    "    plt.xticks([2012, 2013, 2014, 2015], ['2012', '2013', '2014', '2015'])\n",
    "    plt.yticks([1, 2, 3, 4, 5])\n",
    "\n",
    "    plt.xlabel('')\n",
    "    plt.ylabel('Web Searches')\n",
    "\n",
    "    plt.legend(loc='upper center', ncol=3)\n",
    "    plt.grid(True)\n",
    "\n",
    "    plt.savefig('web-searches.png', dpi=150)"
   ]
  },
  {
   "cell_type": "code",
   "execution_count": null,
   "metadata": {
    "collapsed": true
   },
   "outputs": [],
   "source": []
  },
  {
   "cell_type": "code",
   "execution_count": null,
   "metadata": {
    "collapsed": true
   },
   "outputs": [],
   "source": []
  },
  {
   "cell_type": "code",
   "execution_count": null,
   "metadata": {
    "collapsed": true
   },
   "outputs": [],
   "source": []
  },
  {
   "cell_type": "code",
   "execution_count": 7,
   "metadata": {
    "collapsed": false
   },
   "outputs": [
    {
     "data": {
      "image/png": "[encoded data removed]",
      "text/plain": [
       "<matplotlib.figure.Figure at 0x10d7eb278>"
      ]
     },
     "metadata": {},
     "output_type": "display_data"
    },
    {
     "data": {
      "image/png": "[encoded data removed]",
      "text/plain": [
       "<matplotlib.figure.Figure at 0x10e92e080>"
      ]
     },
     "metadata": {},
     "output_type": "display_data"
    }
   ],
   "source": [
    "%matplotlib inline\n",
    "\n",
    "import matplotlib.pyplot as plt\n",
    "\n",
    "# Create the first visualization\n",
    "with plt.style.context('bmh'):\n",
    "    plt.figure()\n",
    "    plt.plot(x1_values, y1_values, label='Python')\n",
    "    plt.plot(x2_values, y2_values, label='JavaScript')\n",
    "    plt.plot(x3_values, y3_values, label='R')\n",
    "\n",
    "    plt.xlim(2012, 2015)\n",
    "    plt.ylim(0, 6)\n",
    "    plt.xticks([2012, 2013, 2014, 2015], ['2012', '2013', '2014', '2015'])\n",
    "    plt.yticks([1, 2, 3, 4, 5])\n",
    "\n",
    "    plt.xlabel('')\n",
    "    plt.ylabel('Web Searches')\n",
    "\n",
    "    plt.legend(loc='upper center', ncol=3)\n",
    "    plt.grid(True)\n",
    "\n",
    "    plt.savefig('web-searches.png', dpi=150)\n",
    "\n",
    "# Create a second visualization\n",
    "with plt.style.context('fivethirtyeight'):\n",
    "    plt.figure()\n",
    "    plt.plot(x1_values, y1_values, label='Python')\n",
    "    plt.plot(x2_values, y2_values, label='JavaScript')\n",
    "    plt.plot(x3_values, y3_values, label='R')\n",
    "\n",
    "    plt.xlim(2012, 2015)\n",
    "    plt.ylim(0, 6)\n",
    "    plt.xticks([2012, 2013, 2014, 2015], ['2012', '2013', '2014', '2015'])\n",
    "    plt.yticks([1, 2, 3, 4, 5])\n",
    "\n",
    "    plt.xlabel('')\n",
    "    plt.ylabel('Web Searches')\n",
    "\n",
    "    plt.legend(loc='upper center', ncol=3)\n",
    "    plt.grid(True)\n",
    "\n",
    "    plt.savefig('web-searches.png', dpi=150)"
   ]
  },
  {
   "cell_type": "code",
   "execution_count": null,
   "metadata": {
    "collapsed": true
   },
   "outputs": [],
   "source": []
  },
  {
   "cell_type": "code",
   "execution_count": 8,
   "metadata": {
    "collapsed": false
   },
   "outputs": [
    {
     "data": {
      "text/plain": [
       "'/Users/randal_olson/.matplotlib'"
      ]
     },
     "execution_count": 8,
     "metadata": {},
     "output_type": "execute_result"
    }
   ],
   "source": [
    "import matplotlib as mpl\n",
    "mpl.get_configdir()"
   ]
  },
  {
   "cell_type": "code",
   "execution_count": 9,
   "metadata": {
    "collapsed": false
   },
   "outputs": [
    {
     "name": "stdout",
     "output_type": "stream",
     "text": [
      "my_custom_style.mplstyle tableau10.mplstyle       tableau20.mplstyle\r\n"
     ]
    }
   ],
   "source": [
    "!ls /Users/randal_olson/.matplotlib/stylelib/"
   ]
  },
  {
   "cell_type": "code",
   "execution_count": 10,
   "metadata": {
    "collapsed": true
   },
   "outputs": [],
   "source": [
    "custom_style = '''\n",
    "figure.figsize: 12, 7\n",
    "figure.edgecolor: white\n",
    "figure.facecolor: white\n",
    "\n",
    "lines.linewidth: 2.5\n",
    "lines.markeredgewidth: 0\n",
    "lines.markersize: 10\n",
    "lines.dash_capstyle: butt\n",
    "\n",
    "legend.fancybox: True\n",
    "\n",
    "font.size: 14\n",
    "\n",
    "axes.color_cycle: 1f77b4, ff7f0e, 2ca02c, d62728, 9467bd, 8c564b, e377c2, 7f7f7f, bcbd22, 17becf\n",
    "axes.linewidth: 0\n",
    "axes.titlesize: 22\n",
    "axes.labelsize: 16\n",
    "\n",
    "xtick.labelsize: 14\n",
    "ytick.labelsize: 14\n",
    "xtick.major.size: 0\n",
    "xtick.minor.size: 0\n",
    "ytick.major.size: 0\n",
    "ytick.minor.size: 0\n",
    "\n",
    "axes.grid: True\n",
    "grid.alpha: 0.3\n",
    "grid.linewidth: 0.5\n",
    "grid.linestyle: --\n",
    "grid.color: black\n",
    "\n",
    "savefig.transparent: False\n",
    "savefig.bbox: tight\n",
    "savefig.format: png\n",
    "'''\n",
    "\n",
    "mpl_style_location = ('{}/stylelib/my_custom_style.mplstyle'.format(mpl.get_configdir()))\n",
    "\n",
    "with open(mpl_style_location, 'w') as out_file:\n",
    "    out_file.write(custom_style)"
   ]
  },
  {
   "cell_type": "markdown",
   "metadata": {},
   "source": [
    "Look up more rcParams at http://matplotlib.org/users/customizing.html#dynamic-rc-settings"
   ]
  },
  {
   "cell_type": "code",
   "execution_count": 11,
   "metadata": {
    "collapsed": false
   },
   "outputs": [
    {
     "name": "stderr",
     "output_type": "stream",
     "text": [
      "/Users/randal_olson/anaconda/lib/python3.5/site-packages/matplotlib/__init__.py:872: UserWarning: axes.color_cycle is deprecated and replaced with axes.prop_cycle; please use the latter.\n",
      "  warnings.warn(self.msg_depr % (key, alt_key))\n"
     ]
    },
    {
     "data": {
      "text/plain": [
       "['seaborn-colorblind',\n",
       " 'seaborn-dark',\n",
       " 'seaborn-whitegrid',\n",
       " 'grayscale',\n",
       " 'bmh',\n",
       " 'seaborn-talk',\n",
       " 'fivethirtyeight',\n",
       " 'seaborn-notebook',\n",
       " 'classic',\n",
       " 'seaborn-white',\n",
       " 'seaborn-ticks',\n",
       " 'seaborn-poster',\n",
       " 'seaborn-muted',\n",
       " 'seaborn-deep',\n",
       " 'seaborn-bright',\n",
       " 'seaborn-paper',\n",
       " 'my_custom_style',\n",
       " 'seaborn-pastel',\n",
       " 'dark_background',\n",
       " 'tableau20',\n",
       " 'seaborn-darkgrid',\n",
       " 'seaborn-dark-palette',\n",
       " 'ggplot',\n",
       " 'tableau10']"
      ]
     },
     "execution_count": 11,
     "metadata": {},
     "output_type": "execute_result"
    }
   ],
   "source": [
    "plt.style.reload_library()\n",
    "plt.style.available"
   ]
  },
  {
   "cell_type": "code",
   "execution_count": 12,
   "metadata": {
    "collapsed": false
   },
   "outputs": [
    {
     "data": {
      "image/png": "[encoded data removed]",
      "text/plain": [
       "<matplotlib.figure.Figure at 0x10ea670f0>"
      ]
     },
     "metadata": {},
     "output_type": "display_data"
    }
   ],
   "source": [
    "%matplotlib inline\n",
    "\n",
    "import matplotlib.pyplot as plt\n",
    "\n",
    "with plt.style.context('my_custom_style'):\n",
    "    plt.figure()\n",
    "    plt.plot(x1_values, y1_values, label='Python')\n",
    "    plt.plot(x2_values, y2_values, label='JavaScript')\n",
    "    plt.plot(x3_values, y3_values, label='R')\n",
    "\n",
    "    plt.xlim(2012, 2015)\n",
    "    plt.ylim(0, 6)\n",
    "    plt.xticks([2012, 2013, 2014, 2015], ['2012', '2013', '2014', '2015'])\n",
    "    plt.yticks([1, 2, 3, 4, 5])\n",
    "\n",
    "    plt.xlabel('')\n",
    "    plt.ylabel('Web Searches')\n",
    "\n",
    "    plt.legend(loc='upper center', ncol=3)\n",
    "    plt.grid(True)\n",
    "\n",
    "    plt.savefig('web-searches.png', dpi=150)"
   ]
  },
  {
   "cell_type": "code",
   "execution_count": null,
   "metadata": {
    "collapsed": true
   },
   "outputs": [],
   "source": []
  },
  {
   "cell_type": "code",
   "execution_count": null,
   "metadata": {
    "collapsed": true
   },
   "outputs": [],
   "source": []
  },
  {
   "cell_type": "code",
   "execution_count": null,
   "metadata": {
    "collapsed": true
   },
   "outputs": [],
   "source": []
  },
  {
   "cell_type": "markdown",
   "metadata": {},
   "source": [
    "# Tips for matplotlib styles\n",
    "\n",
    "### Always use styles!\n",
    "\n",
    "Saves time, saves code\n",
    "\n",
    "### Use `plt.style.context()`\n",
    "\n",
    "You *can* use `plt.style.use()`, but not ideal\n",
    "\n",
    "### Create separate styles for colors and figure formatting\n",
    "\n",
    "Might need to switch between grayscale and color\n",
    "\n",
    "```python\n",
    "    with plt.style.context(['figure_formatting', 'colorbrewer_colors']):\n",
    "```\n",
    "\n",
    "to\n",
    "\n",
    "```python\n",
    "    with plt.style.context(['figure_formatting', 'grayscale_colors']):\n",
    "```"
   ]
  },
  {
   "cell_type": "code",
   "execution_count": null,
   "metadata": {
    "collapsed": true
   },
   "outputs": [],
   "source": []
  },
  {
   "cell_type": "code",
   "execution_count": null,
   "metadata": {
    "collapsed": true
   },
   "outputs": [],
   "source": []
  },
  {
   "cell_type": "code",
   "execution_count": null,
   "metadata": {
    "collapsed": true
   },
   "outputs": [],
   "source": []
  },
  {
   "cell_type": "code",
   "execution_count": null,
   "metadata": {
    "collapsed": true
   },
   "outputs": [],
   "source": []
  },
  {
   "cell_type": "code",
   "execution_count": null,
   "metadata": {
    "collapsed": true
   },
   "outputs": [],
   "source": []
  },
  {
   "cell_type": "code",
   "execution_count": null,
   "metadata": {
    "collapsed": true
   },
   "outputs": [],
   "source": []
  }
 ],
 "metadata": {
  "kernelspec": {
   "display_name": "Python 3",
   "language": "python",
   "name": "python3"
  },
  "language_info": {
   "codemirror_mode": {
    "name": "ipython",
    "version": 3
   },
   "file_extension": ".py",
   "mimetype": "text/x-python",
   "name": "python",
   "nbconvert_exporter": "python",
   "pygments_lexer": "ipython3",
   "version": "3.5.1"
  }
 },
 "nbformat": 4,
 "nbformat_minor": 0
}
