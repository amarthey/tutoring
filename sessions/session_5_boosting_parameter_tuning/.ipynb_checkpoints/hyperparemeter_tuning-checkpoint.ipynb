{
 "cells": [
  {
   "cell_type": "markdown",
   "metadata": {},
   "source": [
    "# GridSearchCV"
   ]
  },
  {
   "cell_type": "code",
   "execution_count": 1,
   "metadata": {},
   "outputs": [],
   "source": [
    "import warnings\n",
    "warnings.filterwarnings('ignore')"
   ]
  },
  {
   "cell_type": "code",
   "execution_count": 19,
   "metadata": {},
   "outputs": [],
   "source": [
    "import pandas as pd\n",
    "import numpy as np\n",
    "import matplotlib.pyplot as plt"
   ]
  },
  {
   "cell_type": "code",
   "execution_count": 3,
   "metadata": {},
   "outputs": [
    {
     "data": {
      "text/html": [
       "<div>\n",
       "<style scoped>\n",
       "    .dataframe tbody tr th:only-of-type {\n",
       "        vertical-align: middle;\n",
       "    }\n",
       "\n",
       "    .dataframe tbody tr th {\n",
       "        vertical-align: top;\n",
       "    }\n",
       "\n",
       "    .dataframe thead th {\n",
       "        text-align: right;\n",
       "    }\n",
       "</style>\n",
       "<table border=\"1\" class=\"dataframe\">\n",
       "  <thead>\n",
       "    <tr style=\"text-align: right;\">\n",
       "      <th></th>\n",
       "      <th>Sample Code Number</th>\n",
       "      <th>Clump Thickness</th>\n",
       "      <th>Uniformity of Cell Size</th>\n",
       "      <th>Uniformity of Cell Shape</th>\n",
       "      <th>Marginal Adhesion</th>\n",
       "      <th>Single Epithelial Cell Size</th>\n",
       "      <th>Bare Nuclei</th>\n",
       "      <th>Bland Chromatin</th>\n",
       "      <th>Normal Nucleoli</th>\n",
       "      <th>Mitoses</th>\n",
       "      <th>Class</th>\n",
       "    </tr>\n",
       "  </thead>\n",
       "  <tbody>\n",
       "    <tr>\n",
       "      <th>0</th>\n",
       "      <td>1000025</td>\n",
       "      <td>5</td>\n",
       "      <td>1</td>\n",
       "      <td>1</td>\n",
       "      <td>1</td>\n",
       "      <td>2</td>\n",
       "      <td>1</td>\n",
       "      <td>3</td>\n",
       "      <td>1</td>\n",
       "      <td>1</td>\n",
       "      <td>2</td>\n",
       "    </tr>\n",
       "    <tr>\n",
       "      <th>1</th>\n",
       "      <td>1002945</td>\n",
       "      <td>5</td>\n",
       "      <td>4</td>\n",
       "      <td>4</td>\n",
       "      <td>5</td>\n",
       "      <td>7</td>\n",
       "      <td>10</td>\n",
       "      <td>3</td>\n",
       "      <td>2</td>\n",
       "      <td>1</td>\n",
       "      <td>2</td>\n",
       "    </tr>\n",
       "    <tr>\n",
       "      <th>2</th>\n",
       "      <td>1015425</td>\n",
       "      <td>3</td>\n",
       "      <td>1</td>\n",
       "      <td>1</td>\n",
       "      <td>1</td>\n",
       "      <td>2</td>\n",
       "      <td>2</td>\n",
       "      <td>3</td>\n",
       "      <td>1</td>\n",
       "      <td>1</td>\n",
       "      <td>2</td>\n",
       "    </tr>\n",
       "    <tr>\n",
       "      <th>3</th>\n",
       "      <td>1016277</td>\n",
       "      <td>6</td>\n",
       "      <td>8</td>\n",
       "      <td>8</td>\n",
       "      <td>1</td>\n",
       "      <td>3</td>\n",
       "      <td>4</td>\n",
       "      <td>3</td>\n",
       "      <td>7</td>\n",
       "      <td>1</td>\n",
       "      <td>2</td>\n",
       "    </tr>\n",
       "    <tr>\n",
       "      <th>4</th>\n",
       "      <td>1017023</td>\n",
       "      <td>4</td>\n",
       "      <td>1</td>\n",
       "      <td>1</td>\n",
       "      <td>3</td>\n",
       "      <td>2</td>\n",
       "      <td>1</td>\n",
       "      <td>3</td>\n",
       "      <td>1</td>\n",
       "      <td>1</td>\n",
       "      <td>2</td>\n",
       "    </tr>\n",
       "    <tr>\n",
       "      <th>5</th>\n",
       "      <td>1017122</td>\n",
       "      <td>8</td>\n",
       "      <td>10</td>\n",
       "      <td>10</td>\n",
       "      <td>8</td>\n",
       "      <td>7</td>\n",
       "      <td>10</td>\n",
       "      <td>9</td>\n",
       "      <td>7</td>\n",
       "      <td>1</td>\n",
       "      <td>4</td>\n",
       "    </tr>\n",
       "    <tr>\n",
       "      <th>6</th>\n",
       "      <td>1018099</td>\n",
       "      <td>1</td>\n",
       "      <td>1</td>\n",
       "      <td>1</td>\n",
       "      <td>1</td>\n",
       "      <td>2</td>\n",
       "      <td>10</td>\n",
       "      <td>3</td>\n",
       "      <td>1</td>\n",
       "      <td>1</td>\n",
       "      <td>2</td>\n",
       "    </tr>\n",
       "    <tr>\n",
       "      <th>7</th>\n",
       "      <td>1018561</td>\n",
       "      <td>2</td>\n",
       "      <td>1</td>\n",
       "      <td>2</td>\n",
       "      <td>1</td>\n",
       "      <td>2</td>\n",
       "      <td>1</td>\n",
       "      <td>3</td>\n",
       "      <td>1</td>\n",
       "      <td>1</td>\n",
       "      <td>2</td>\n",
       "    </tr>\n",
       "    <tr>\n",
       "      <th>8</th>\n",
       "      <td>1033078</td>\n",
       "      <td>2</td>\n",
       "      <td>1</td>\n",
       "      <td>1</td>\n",
       "      <td>1</td>\n",
       "      <td>2</td>\n",
       "      <td>1</td>\n",
       "      <td>1</td>\n",
       "      <td>1</td>\n",
       "      <td>5</td>\n",
       "      <td>2</td>\n",
       "    </tr>\n",
       "    <tr>\n",
       "      <th>9</th>\n",
       "      <td>1033078</td>\n",
       "      <td>4</td>\n",
       "      <td>2</td>\n",
       "      <td>1</td>\n",
       "      <td>1</td>\n",
       "      <td>2</td>\n",
       "      <td>1</td>\n",
       "      <td>2</td>\n",
       "      <td>1</td>\n",
       "      <td>1</td>\n",
       "      <td>2</td>\n",
       "    </tr>\n",
       "  </tbody>\n",
       "</table>\n",
       "</div>"
      ],
      "text/plain": [
       "   Sample Code Number  Clump Thickness  Uniformity of Cell Size  \\\n",
       "0             1000025                5                        1   \n",
       "1             1002945                5                        4   \n",
       "2             1015425                3                        1   \n",
       "3             1016277                6                        8   \n",
       "4             1017023                4                        1   \n",
       "5             1017122                8                       10   \n",
       "6             1018099                1                        1   \n",
       "7             1018561                2                        1   \n",
       "8             1033078                2                        1   \n",
       "9             1033078                4                        2   \n",
       "\n",
       "   Uniformity of Cell Shape  Marginal Adhesion  Single Epithelial Cell Size  \\\n",
       "0                         1                  1                            2   \n",
       "1                         4                  5                            7   \n",
       "2                         1                  1                            2   \n",
       "3                         8                  1                            3   \n",
       "4                         1                  3                            2   \n",
       "5                        10                  8                            7   \n",
       "6                         1                  1                            2   \n",
       "7                         2                  1                            2   \n",
       "8                         1                  1                            2   \n",
       "9                         1                  1                            2   \n",
       "\n",
       "  Bare Nuclei  Bland Chromatin  Normal Nucleoli  Mitoses  Class  \n",
       "0           1                3                1        1      2  \n",
       "1          10                3                2        1      2  \n",
       "2           2                3                1        1      2  \n",
       "3           4                3                7        1      2  \n",
       "4           1                3                1        1      2  \n",
       "5          10                9                7        1      4  \n",
       "6          10                3                1        1      2  \n",
       "7           1                3                1        1      2  \n",
       "8           1                1                1        5      2  \n",
       "9           1                2                1        1      2  "
      ]
     },
     "execution_count": 3,
     "metadata": {},
     "output_type": "execute_result"
    }
   ],
   "source": [
    "#import data\n",
    "data = pd.read_csv('breast-cancer-wisconsin.csv',header=None)\n",
    "\n",
    "#set column names\n",
    "data.columns = ['Sample Code Number','Clump Thickness','Uniformity of Cell Size',\n",
    "                                                        'Uniformity of Cell Shape','Marginal Adhesion','Single Epithelial Cell Size',\n",
    "                                                        'Bare Nuclei','Bland Chromatin','Normal Nucleoli','Mitoses','Class']\n",
    "#view top 10 rows\n",
    "data.head(10)"
   ]
  },
  {
   "cell_type": "markdown",
   "metadata": {},
   "source": [
    "Each row in the dataset have one of two possible classes: benign (represented by 2) and malignant (represented by 4). Also, there are 10 attributes in this dataset (shown above) which will be used for prediction, except Sample Code Number which is the id number."
   ]
  },
  {
   "cell_type": "markdown",
   "metadata": {},
   "source": [
    "## Clean the data and rename the class values as 0/1 for model building (where 1 represents a malignant case). Also, let’s observe the distribution of the class."
   ]
  },
  {
   "cell_type": "code",
   "execution_count": 4,
   "metadata": {},
   "outputs": [
    {
     "data": {
      "text/plain": [
       "0    444\n",
       "1    239\n",
       "Name: Class, dtype: int64"
      ]
     },
     "execution_count": 4,
     "metadata": {},
     "output_type": "execute_result"
    }
   ],
   "source": [
    "data = data.drop(['Sample Code Number'],axis=1) #Drop 1st column\n",
    "data = data[data['Bare Nuclei'] != '?'] #Remove rows with missing data\n",
    "data['Class'] = np.where(data['Class'] ==2,0,1) #Change the Class representation\n",
    "data['Class'].value_counts() #Class distribution"
   ]
  },
  {
   "cell_type": "markdown",
   "metadata": {},
   "source": [
    "## Before building a classification model, let’s build a Dummy Classifier to determine the ‘baseline’ performance. This answers the question — ‘What would be the success rate of the model, if one were simply guessing?’ The dummy classifier we are using will simply predict the majority class."
   ]
  },
  {
   "cell_type": "code",
   "execution_count": 5,
   "metadata": {},
   "outputs": [
    {
     "name": "stdout",
     "output_type": "stream",
     "text": [
      "y actual : \n",
      "0    103\n",
      "1     68\n",
      "Name: Class, dtype: int64\n",
      "y predicted : \n",
      "0    171\n",
      "dtype: int64\n"
     ]
    }
   ],
   "source": [
    "#Split data into attributes and class\n",
    "X = data.drop(['Class'],axis=1)\n",
    "y = data['Class']\n",
    "\n",
    "#perform training and test split\n",
    "from sklearn.model_selection import train_test_split\n",
    "X_train, X_test, y_train, y_test = train_test_split(X, y, random_state=42)\n",
    "\n",
    "#Dummy Classifier\n",
    "from sklearn.dummy import DummyClassifier\n",
    "clf = DummyClassifier(strategy= 'most_frequent').fit(X_train,y_train)\n",
    "y_pred = clf.predict(X_test)\n",
    "\n",
    "#Distribution of y test\n",
    "print('y actual : \\n' +  str(y_test.value_counts()))\n",
    "\n",
    "#Distribution of y predicted\n",
    "print('y predicted : \\n' + str(pd.Series(y_pred).value_counts()))"
   ]
  },
  {
   "cell_type": "markdown",
   "metadata": {},
   "source": [
    "From the output, we can observe that there are 68 malignant and 103 benign cases in the test dataset. However, our classifier predicts all cases as benign (as it is the majority class)."
   ]
  },
  {
   "cell_type": "code",
   "execution_count": 6,
   "metadata": {},
   "outputs": [
    {
     "name": "stdout",
     "output_type": "stream",
     "text": [
      "Accuracy Score : 0.6023391812865497\n",
      "Precision Score : 0.0\n",
      "Recall Score : 0.0\n",
      "F1 Score : 0.0\n",
      "Confusion Matrix : \n",
      "[[103   0]\n",
      " [ 68   0]]\n"
     ]
    }
   ],
   "source": [
    "# Model Evaluation metrics \n",
    "from sklearn.metrics import accuracy_score,recall_score,precision_score,f1_score\n",
    "print('Accuracy Score : ' + str(accuracy_score(y_test,y_pred)))\n",
    "print('Precision Score : ' + str(precision_score(y_test,y_pred)))\n",
    "print('Recall Score : ' + str(recall_score(y_test,y_pred)))\n",
    "print('F1 Score : ' + str(f1_score(y_test,y_pred)))\n",
    "\n",
    "#Dummy Classifier Confusion matrix\n",
    "from sklearn.metrics import confusion_matrix\n",
    "print('Confusion Matrix : \\n' + str(confusion_matrix(y_test,y_pred)))"
   ]
  },
  {
   "cell_type": "markdown",
   "metadata": {},
   "source": [
    "The accuracy of the model is 60.2%, but this is a case where accuracy may not be the best metric to evaluate the model. So, let’s take a look at the other evaluation metrics."
   ]
  },
  {
   "cell_type": "code",
   "execution_count": 7,
   "metadata": {},
   "outputs": [
    {
     "name": "stdout",
     "output_type": "stream",
     "text": [
      "Accuracy Score : 0.9473684210526315\n",
      "Precision Score : 0.9836065573770492\n",
      "Recall Score : 0.8823529411764706\n",
      "F1 Score : 0.9302325581395349\n",
      "Confusion Matrix : \n",
      "[[102   1]\n",
      " [  8  60]]\n"
     ]
    }
   ],
   "source": [
    "\n",
    "#Logistic regression\n",
    "from sklearn.linear_model import LogisticRegression\n",
    "\n",
    "clf = LogisticRegression().fit(X_train,y_train)\n",
    "y_pred = clf.predict(X_test)\n",
    "\n",
    "# Model Evaluation metrics \n",
    "from sklearn.metrics import accuracy_score,recall_score,precision_score,f1_score\n",
    "print('Accuracy Score : ' + str(accuracy_score(y_test,y_pred)))\n",
    "print('Precision Score : ' + str(precision_score(y_test,y_pred)))\n",
    "print('Recall Score : ' + str(recall_score(y_test,y_pred)))\n",
    "print('F1 Score : ' + str(f1_score(y_test,y_pred)))\n",
    "\n",
    "#Logistic Regression Classifier Confusion matrix\n",
    "from sklearn.metrics import confusion_matrix\n",
    "print('Confusion Matrix : \\n' + str(confusion_matrix(y_test,y_pred)))"
   ]
  },
  {
   "cell_type": "markdown",
   "metadata": {},
   "source": [
    "Looking at the misclassified instances, we can observe that 8 malignant cases have been classified incorrectly as benign (False negatives). Also, just one benign case has been classified as malignant (False positive).\n",
    "A false negative is more serious as a disease has been ignored, which can lead to the death of the patient. At the same time, a false positive would lead to an unnecessary treatment — incurring additional cost.\n",
    "Let’s try to minimize the false negatives by using Grid Search to find the optimal parameters. Grid search can be used to improve any specific evaluation metric."
   ]
  },
  {
   "cell_type": "code",
   "execution_count": 23,
   "metadata": {
    "scrolled": false
   },
   "outputs": [
    {
     "name": "stdout",
     "output_type": "stream",
     "text": [
      "Accuracy Score : 0.9122807017543859\n",
      "Precision Score : 0.8732394366197183\n",
      "Recall Score : 0.9117647058823529\n",
      "F1 Score : 0.8920863309352517\n"
     ]
    },
    {
     "data": {
      "text/plain": [
       "array([[94,  9],\n",
       "       [ 6, 62]])"
      ]
     },
     "execution_count": 23,
     "metadata": {},
     "output_type": "execute_result"
    }
   ],
   "source": [
    "\n",
    "#Grid Search\n",
    "from sklearn.model_selection import GridSearchCV\n",
    "clf = LogisticRegression()\n",
    "pens = ['l1', 'l2']\n",
    "Cs = [0.009,0.01,.09,1,5,10,25]\n",
    "grid_values = {'penalty': pens,'C':Cs}\n",
    "grid_clf_acc = GridSearchCV(clf, param_grid = grid_values,scoring = 'recall')\n",
    "grid_clf_acc.fit(X_train, y_train)\n",
    "\n",
    "#Predict values based on new parameters\n",
    "y_pred_acc = grid_clf_acc.predict(X_test)\n",
    "\n",
    "# New Model Evaluation metrics \n",
    "print('Accuracy Score : ' + str(accuracy_score(y_test,y_pred_acc)))\n",
    "print('Precision Score : ' + str(precision_score(y_test,y_pred_acc)))\n",
    "print('Recall Score : ' + str(recall_score(y_test,y_pred_acc)))\n",
    "print('F1 Score : ' + str(f1_score(y_test,y_pred_acc)))\n",
    "\n",
    "#Logistic Regression (Grid Search) Confusion matrix\n",
    "confusion_matrix(y_test,y_pred_acc)"
   ]
  },
  {
   "cell_type": "markdown",
   "metadata": {},
   "source": [
    "The hyperparameters we tuned are:\n",
    "1. Penalty: l1 or l2 which species the norm used in the penalization.\n",
    "2. C: Inverse of regularization strength- smaller values of C specify stronger regularization.\n",
    "\n",
    "Also, in Grid-search function, we have the scoring parameter where we can specify the metric to evaluate the model on (We have chosen recall as the metric). From the confusion matrix below, we can see that the number of false negatives has reduced, however, it is at the cost of increased false positives. The recall after grid search has jumped from 88.2% to 91.1%, whereas the precision has dropped to 87.3% from 98.3%."
   ]
  },
  {
   "cell_type": "code",
   "execution_count": 25,
   "metadata": {},
   "outputs": [
    {
     "data": {
      "text/plain": [
       "{'mean_fit_time': array([0.00381478, 0.00216738, 0.00181198, 0.00185378, 0.00218868,\n",
       "        0.0018537 , 0.00251786, 0.0019896 , 0.00292953, 0.00220219,\n",
       "        0.00341209, 0.00260186, 0.00352136, 0.0021406 ]),\n",
       " 'std_fit_time': array([1.24313440e-03, 3.82750187e-04, 2.96311230e-05, 3.51818011e-05,\n",
       "        1.16318135e-04, 6.29099849e-05, 1.51674989e-04, 8.02815932e-05,\n",
       "        2.29023381e-04, 2.23312259e-04, 3.61978471e-04, 3.53612665e-04,\n",
       "        3.45418324e-04, 8.77590546e-05]),\n",
       " 'mean_score_time': array([0.00192992, 0.0011367 , 0.0010546 , 0.00100835, 0.00099119,\n",
       "        0.00114528, 0.00099111, 0.00100835, 0.00100422, 0.00111238,\n",
       "        0.00121427, 0.00108337, 0.00124462, 0.0009923 ]),\n",
       " 'std_score_time': array([6.76751864e-04, 5.38024804e-05, 4.43186443e-05, 2.30410995e-05,\n",
       "        4.08957174e-06, 1.84083265e-04, 1.30456581e-05, 2.64034149e-05,\n",
       "        1.17011473e-05, 1.34237682e-04, 1.63692833e-04, 8.71192928e-05,\n",
       "        2.43028135e-04, 2.64146554e-05]),\n",
       " 'param_C': masked_array(data=[0.009, 0.009, 0.01, 0.01, 0.09, 0.09, 1, 1, 5, 5, 10,\n",
       "                    10, 25, 25],\n",
       "              mask=[False, False, False, False, False, False, False, False,\n",
       "                    False, False, False, False, False, False],\n",
       "        fill_value='?',\n",
       "             dtype=object),\n",
       " 'param_penalty': masked_array(data=['l1', 'l2', 'l1', 'l2', 'l1', 'l2', 'l1', 'l2', 'l1',\n",
       "                    'l2', 'l1', 'l2', 'l1', 'l2'],\n",
       "              mask=[False, False, False, False, False, False, False, False,\n",
       "                    False, False, False, False, False, False],\n",
       "        fill_value='?',\n",
       "             dtype=object),\n",
       " 'params': [{'C': 0.009, 'penalty': 'l1'},\n",
       "  {'C': 0.009, 'penalty': 'l2'},\n",
       "  {'C': 0.01, 'penalty': 'l1'},\n",
       "  {'C': 0.01, 'penalty': 'l2'},\n",
       "  {'C': 0.09, 'penalty': 'l1'},\n",
       "  {'C': 0.09, 'penalty': 'l2'},\n",
       "  {'C': 1, 'penalty': 'l1'},\n",
       "  {'C': 1, 'penalty': 'l2'},\n",
       "  {'C': 5, 'penalty': 'l1'},\n",
       "  {'C': 5, 'penalty': 'l2'},\n",
       "  {'C': 10, 'penalty': 'l1'},\n",
       "  {'C': 10, 'penalty': 'l2'},\n",
       "  {'C': 25, 'penalty': 'l1'},\n",
       "  {'C': 25, 'penalty': 'l2'}],\n",
       " 'split0_test_score': array([1.        , 0.87719298, 0.92982456, 0.87719298, 0.9122807 ,\n",
       "        0.87719298, 0.9122807 , 0.9122807 , 0.89473684, 0.89473684,\n",
       "        0.89473684, 0.89473684, 0.89473684, 0.89473684]),\n",
       " 'split1_test_score': array([1.        , 0.9122807 , 1.        , 0.9122807 , 0.94736842,\n",
       "        0.92982456, 0.96491228, 0.96491228, 0.98245614, 0.96491228,\n",
       "        0.98245614, 0.96491228, 0.98245614, 0.98245614]),\n",
       " 'split2_test_score': array([1.        , 0.89473684, 1.        , 0.89473684, 0.96491228,\n",
       "        0.89473684, 0.92982456, 0.94736842, 0.9122807 , 0.92982456,\n",
       "        0.9122807 , 0.92982456, 0.9122807 , 0.92982456]),\n",
       " 'mean_test_score': array([1.        , 0.89473684, 0.9765625 , 0.89473684, 0.94147478,\n",
       "        0.90059622, 0.93568394, 0.94150905, 0.92985883, 0.92982456,\n",
       "        0.92985883, 0.92982456, 0.92985883, 0.93568394]),\n",
       " 'std_test_score': array([0.        , 0.01433848, 0.03309714, 0.01433848, 0.02187794,\n",
       "        0.02190087, 0.02190087, 0.02190087, 0.03792812, 0.02867697,\n",
       "        0.03792812, 0.02867697, 0.03792812, 0.03608346]),\n",
       " 'rank_test_score': array([ 1, 13,  2, 13,  4, 12,  5,  3,  7, 10,  7, 10,  7,  5],\n",
       "       dtype=int32),\n",
       " 'split0_train_score': array([1.        , 0.92982456, 0.97368421, 0.92982456, 0.96491228,\n",
       "        0.93859649, 0.96491228, 0.96491228, 0.97368421, 0.97368421,\n",
       "        0.97368421, 0.97368421, 0.97368421, 0.97368421]),\n",
       " 'split1_train_score': array([1.        , 0.89473684, 1.        , 0.89473684, 0.95614035,\n",
       "        0.93859649, 0.96491228, 0.97368421, 0.95614035, 0.96491228,\n",
       "        0.95614035, 0.96491228, 0.95614035, 0.95614035]),\n",
       " 'split2_train_score': array([1.        , 0.92982456, 1.        , 0.92982456, 0.94736842,\n",
       "        0.94736842, 0.98245614, 0.94736842, 0.99122807, 0.98245614,\n",
       "        0.98245614, 0.98245614, 0.98245614, 0.98245614]),\n",
       " 'mean_train_score': array([1.        , 0.91812865, 0.99122807, 0.91812865, 0.95614035,\n",
       "        0.94152047, 0.97076023, 0.9619883 , 0.97368421, 0.97368421,\n",
       "        0.97076023, 0.97368421, 0.97076023, 0.97076023]),\n",
       " 'std_train_score': array([0.        , 0.01654051, 0.01240538, 0.01654051, 0.00716225,\n",
       "        0.00413513, 0.00827025, 0.01094052, 0.0143245 , 0.00716225,\n",
       "        0.01094052, 0.00716225, 0.01094052, 0.01094052])}"
      ]
     },
     "execution_count": 25,
     "metadata": {},
     "output_type": "execute_result"
    }
   ],
   "source": [
    "grid_clf_acc.cv_results_"
   ]
  },
  {
   "cell_type": "code",
   "execution_count": 27,
   "metadata": {},
   "outputs": [
    {
     "data": {
      "text/plain": [
       "1.0"
      ]
     },
     "execution_count": 27,
     "metadata": {},
     "output_type": "execute_result"
    }
   ],
   "source": [
    "grid_clf_acc.best_score_"
   ]
  },
  {
   "cell_type": "code",
   "execution_count": 28,
   "metadata": {},
   "outputs": [
    {
     "data": {
      "text/plain": [
       "{'C': 0.009, 'penalty': 'l1'}"
      ]
     },
     "execution_count": 28,
     "metadata": {},
     "output_type": "execute_result"
    }
   ],
   "source": [
    "grid_clf_acc.best_params_"
   ]
  },
  {
   "cell_type": "code",
   "execution_count": 29,
   "metadata": {},
   "outputs": [
    {
     "data": {
      "text/plain": [
       "LogisticRegression(C=0.009, class_weight=None, dual=False, fit_intercept=True,\n",
       "          intercept_scaling=1, max_iter=100, multi_class='warn',\n",
       "          n_jobs=None, penalty='l1', random_state=None, solver='warn',\n",
       "          tol=0.0001, verbose=0, warm_start=False)"
      ]
     },
     "execution_count": 29,
     "metadata": {},
     "output_type": "execute_result"
    }
   ],
   "source": [
    "grid_clf_acc.best_estimator_"
   ]
  },
  {
   "cell_type": "code",
   "execution_count": 24,
   "metadata": {},
   "outputs": [
    {
     "data": {
      "image/png": "[encoded data removed]",
      "text/plain": [
       "<Figure size 432x288 with 1 Axes>"
      ]
     },
     "metadata": {},
     "output_type": "display_data"
    }
   ],
   "source": [
    "scores = [x for x in grid_clf_acc.cv_results_['mean_train_score']]\n",
    "scores = np.array(scores).reshape(len(Cs), len(pens))\n",
    "\n",
    "for ind, i in enumerate(Cs):\n",
    "    plt.plot(pens, scores[ind], label='C: ' + str(i))\n",
    "plt.legend()\n",
    "plt.xlabel('Penalty')\n",
    "plt.ylabel('Mean score')\n",
    "plt.show()"
   ]
  },
  {
   "cell_type": "code",
   "execution_count": null,
   "metadata": {},
   "outputs": [],
   "source": []
  }
 ],
 "metadata": {
  "kernelspec": {
   "display_name": "Python 3",
   "language": "python",
   "name": "python3"
  },
  "language_info": {
   "codemirror_mode": {
    "name": "ipython",
    "version": 3
   },
   "file_extension": ".py",
   "mimetype": "text/x-python",
   "name": "python",
   "nbconvert_exporter": "python",
   "pygments_lexer": "ipython3",
   "version": "3.6.5"
  }
 },
 "nbformat": 4,
 "nbformat_minor": 2
}
