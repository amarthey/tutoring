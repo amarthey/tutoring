{
 "cells": [
  {
   "cell_type": "code",
   "execution_count": 2,
   "metadata": {
    "_cell_guid": "7b9b5703-1e29-47f2-a1a9-2e0ba2db581f",
    "_execution_state": "idle",
    "_uuid": "8e20f5b53ce35391006b921cd79280cf3756d929"
   },
   "outputs": [],
   "source": [
    "import warnings\n",
    "warnings.filterwarnings(\"ignore\")\n",
    "\n",
    "import pandas as pd\n",
    "import copy\n",
    "import matplotlib.pyplot as plt\n",
    "import numpy as np\n",
    "import seaborn as sns\n",
    "\n",
    "# styling\n",
    "pd.set_option('display.max_columns',150)\n",
    "plt.style.use('bmh')\n",
    "from IPython.display import display\n",
    "\n",
    "# a bit of machine learning\n",
    "from sklearn.metrics import recall_score, precision_score\n",
    "from sklearn.model_selection import GridSearchCV\n",
    "\n",
    "%matplotlib inline"
   ]
  },
  {
   "cell_type": "code",
   "execution_count": 7,
   "metadata": {},
   "outputs": [
    {
     "data": {
      "text/plain": [
       "'/Users/antoine/Desktop/tutoring/sessions/session_2_vizualization'"
      ]
     },
     "execution_count": 7,
     "metadata": {},
     "output_type": "execute_result"
    }
   ],
   "source": [
    "%pwd"
   ]
  },
  {
   "cell_type": "code",
   "execution_count": 8,
   "metadata": {
    "_cell_guid": "22243ad2-790b-4e36-8cf5-01a30210b580",
    "_execution_state": "idle",
    "_uuid": "130c13cbd4d1fcde16644265f1e288158ad97fe7"
   },
   "outputs": [],
   "source": [
    "young = pd.read_csv('/Users/antoine/Desktop/tutoring/sessions/session_2_vizualization/young-people-survey/responses.csv')"
   ]
  },
  {
   "cell_type": "code",
   "execution_count": 9,
   "metadata": {
    "_cell_guid": "f6c4f282-6184-4f64-a028-7a415e5815b6",
    "_execution_state": "idle",
    "_uuid": "6dd8dd30468941f0530a04ee7db7b3db0ea42269"
   },
   "outputs": [
    {
     "data": {
      "text/html": [
       "<div>\n",
       "<style scoped>\n",
       "    .dataframe tbody tr th:only-of-type {\n",
       "        vertical-align: middle;\n",
       "    }\n",
       "\n",
       "    .dataframe tbody tr th {\n",
       "        vertical-align: top;\n",
       "    }\n",
       "\n",
       "    .dataframe thead th {\n",
       "        text-align: right;\n",
       "    }\n",
       "</style>\n",
       "<table border=\"1\" class=\"dataframe\">\n",
       "  <thead>\n",
       "    <tr style=\"text-align: right;\">\n",
       "      <th></th>\n",
       "      <th>Music</th>\n",
       "      <th>Slow songs or fast songs</th>\n",
       "      <th>Dance</th>\n",
       "      <th>Folk</th>\n",
       "      <th>Country</th>\n",
       "      <th>Classical music</th>\n",
       "      <th>Musical</th>\n",
       "      <th>Pop</th>\n",
       "      <th>Rock</th>\n",
       "      <th>Metal or Hardrock</th>\n",
       "      <th>Punk</th>\n",
       "      <th>Hiphop, Rap</th>\n",
       "      <th>Reggae, Ska</th>\n",
       "      <th>Swing, Jazz</th>\n",
       "      <th>Rock n roll</th>\n",
       "      <th>Alternative</th>\n",
       "      <th>Latino</th>\n",
       "      <th>Techno, Trance</th>\n",
       "      <th>Opera</th>\n",
       "      <th>Movies</th>\n",
       "      <th>Horror</th>\n",
       "      <th>Thriller</th>\n",
       "      <th>Comedy</th>\n",
       "      <th>Romantic</th>\n",
       "      <th>Sci-fi</th>\n",
       "      <th>War</th>\n",
       "      <th>Fantasy/Fairy tales</th>\n",
       "      <th>Animated</th>\n",
       "      <th>Documentary</th>\n",
       "      <th>Western</th>\n",
       "      <th>Action</th>\n",
       "      <th>History</th>\n",
       "      <th>Psychology</th>\n",
       "      <th>Politics</th>\n",
       "      <th>Mathematics</th>\n",
       "      <th>Physics</th>\n",
       "      <th>Internet</th>\n",
       "      <th>PC</th>\n",
       "      <th>Economy Management</th>\n",
       "      <th>Biology</th>\n",
       "      <th>Chemistry</th>\n",
       "      <th>Reading</th>\n",
       "      <th>Geography</th>\n",
       "      <th>Foreign languages</th>\n",
       "      <th>Medicine</th>\n",
       "      <th>Law</th>\n",
       "      <th>Cars</th>\n",
       "      <th>Art exhibitions</th>\n",
       "      <th>Religion</th>\n",
       "      <th>Countryside, outdoors</th>\n",
       "      <th>Dancing</th>\n",
       "      <th>Musical instruments</th>\n",
       "      <th>Writing</th>\n",
       "      <th>Passive sport</th>\n",
       "      <th>Active sport</th>\n",
       "      <th>Gardening</th>\n",
       "      <th>Celebrities</th>\n",
       "      <th>Shopping</th>\n",
       "      <th>Science and technology</th>\n",
       "      <th>Theatre</th>\n",
       "      <th>Fun with friends</th>\n",
       "      <th>Adrenaline sports</th>\n",
       "      <th>Pets</th>\n",
       "      <th>Flying</th>\n",
       "      <th>Storm</th>\n",
       "      <th>Darkness</th>\n",
       "      <th>Heights</th>\n",
       "      <th>Spiders</th>\n",
       "      <th>Snakes</th>\n",
       "      <th>Rats</th>\n",
       "      <th>Ageing</th>\n",
       "      <th>Dangerous dogs</th>\n",
       "      <th>Fear of public speaking</th>\n",
       "      <th>Smoking</th>\n",
       "      <th>Alcohol</th>\n",
       "      <th>Healthy eating</th>\n",
       "      <th>Daily events</th>\n",
       "      <th>Prioritising workload</th>\n",
       "      <th>Writing notes</th>\n",
       "      <th>Workaholism</th>\n",
       "      <th>Thinking ahead</th>\n",
       "      <th>Final judgement</th>\n",
       "      <th>Reliability</th>\n",
       "      <th>Keeping promises</th>\n",
       "      <th>Loss of interest</th>\n",
       "      <th>Friends versus money</th>\n",
       "      <th>Funniness</th>\n",
       "      <th>Fake</th>\n",
       "      <th>Criminal damage</th>\n",
       "      <th>Decision making</th>\n",
       "      <th>Elections</th>\n",
       "      <th>Self-criticism</th>\n",
       "      <th>Judgment calls</th>\n",
       "      <th>Hypochondria</th>\n",
       "      <th>Empathy</th>\n",
       "      <th>Eating to survive</th>\n",
       "      <th>Giving</th>\n",
       "      <th>Compassion to animals</th>\n",
       "      <th>Borrowed stuff</th>\n",
       "      <th>Loneliness</th>\n",
       "      <th>Cheating in school</th>\n",
       "      <th>Health</th>\n",
       "      <th>Changing the past</th>\n",
       "      <th>God</th>\n",
       "      <th>Dreams</th>\n",
       "      <th>Charity</th>\n",
       "      <th>Number of friends</th>\n",
       "      <th>Punctuality</th>\n",
       "      <th>Lying</th>\n",
       "      <th>Waiting</th>\n",
       "      <th>New environment</th>\n",
       "      <th>Mood swings</th>\n",
       "      <th>Appearence and gestures</th>\n",
       "      <th>Socializing</th>\n",
       "      <th>Achievements</th>\n",
       "      <th>Responding to a serious letter</th>\n",
       "      <th>Children</th>\n",
       "      <th>Assertiveness</th>\n",
       "      <th>Getting angry</th>\n",
       "      <th>Knowing the right people</th>\n",
       "      <th>Public speaking</th>\n",
       "      <th>Unpopularity</th>\n",
       "      <th>Life struggles</th>\n",
       "      <th>Happiness in life</th>\n",
       "      <th>Energy levels</th>\n",
       "      <th>Small - big dogs</th>\n",
       "      <th>Personality</th>\n",
       "      <th>Finding lost valuables</th>\n",
       "      <th>Getting up</th>\n",
       "      <th>Interests or hobbies</th>\n",
       "      <th>Parents' advice</th>\n",
       "      <th>Questionnaires or polls</th>\n",
       "      <th>Internet usage</th>\n",
       "      <th>Finances</th>\n",
       "      <th>Shopping centres</th>\n",
       "      <th>Branded clothing</th>\n",
       "      <th>Entertainment spending</th>\n",
       "      <th>Spending on looks</th>\n",
       "      <th>Spending on gadgets</th>\n",
       "      <th>Spending on healthy eating</th>\n",
       "      <th>Age</th>\n",
       "      <th>Height</th>\n",
       "      <th>Weight</th>\n",
       "      <th>Number of siblings</th>\n",
       "      <th>Gender</th>\n",
       "      <th>Left - right handed</th>\n",
       "      <th>Education</th>\n",
       "      <th>Only child</th>\n",
       "      <th>Village - town</th>\n",
       "      <th>House - block of flats</th>\n",
       "    </tr>\n",
       "  </thead>\n",
       "  <tbody>\n",
       "    <tr>\n",
       "      <th>0</th>\n",
       "      <td>5.0</td>\n",
       "      <td>3.0</td>\n",
       "      <td>2.0</td>\n",
       "      <td>1.0</td>\n",
       "      <td>2.0</td>\n",
       "      <td>2.0</td>\n",
       "      <td>1.0</td>\n",
       "      <td>5.0</td>\n",
       "      <td>5.0</td>\n",
       "      <td>1.0</td>\n",
       "      <td>1.0</td>\n",
       "      <td>1.0</td>\n",
       "      <td>1.0</td>\n",
       "      <td>1.0</td>\n",
       "      <td>3.0</td>\n",
       "      <td>1.0</td>\n",
       "      <td>1.0</td>\n",
       "      <td>1.0</td>\n",
       "      <td>1.0</td>\n",
       "      <td>5.0</td>\n",
       "      <td>4.0</td>\n",
       "      <td>2.0</td>\n",
       "      <td>5.0</td>\n",
       "      <td>4.0</td>\n",
       "      <td>4.0</td>\n",
       "      <td>1.0</td>\n",
       "      <td>5.0</td>\n",
       "      <td>5.0</td>\n",
       "      <td>3.0</td>\n",
       "      <td>1.0</td>\n",
       "      <td>2.0</td>\n",
       "      <td>1.0</td>\n",
       "      <td>5.0</td>\n",
       "      <td>1.0</td>\n",
       "      <td>3.0</td>\n",
       "      <td>3.0</td>\n",
       "      <td>5.0</td>\n",
       "      <td>3.0</td>\n",
       "      <td>5.0</td>\n",
       "      <td>3.0</td>\n",
       "      <td>3.0</td>\n",
       "      <td>3.0</td>\n",
       "      <td>3.0</td>\n",
       "      <td>5.0</td>\n",
       "      <td>3.0</td>\n",
       "      <td>1.0</td>\n",
       "      <td>1.0</td>\n",
       "      <td>1.0</td>\n",
       "      <td>1.0</td>\n",
       "      <td>5.0</td>\n",
       "      <td>3.0</td>\n",
       "      <td>3.0</td>\n",
       "      <td>2.0</td>\n",
       "      <td>1.0</td>\n",
       "      <td>5.0</td>\n",
       "      <td>5.0</td>\n",
       "      <td>1.0</td>\n",
       "      <td>4.0</td>\n",
       "      <td>4.0</td>\n",
       "      <td>2.0</td>\n",
       "      <td>5.0</td>\n",
       "      <td>4.0</td>\n",
       "      <td>4.0</td>\n",
       "      <td>1.0</td>\n",
       "      <td>1.0</td>\n",
       "      <td>1.0</td>\n",
       "      <td>1.0</td>\n",
       "      <td>1.0</td>\n",
       "      <td>5</td>\n",
       "      <td>3.0</td>\n",
       "      <td>1.0</td>\n",
       "      <td>3.0</td>\n",
       "      <td>2.0</td>\n",
       "      <td>never smoked</td>\n",
       "      <td>drink a lot</td>\n",
       "      <td>4.0</td>\n",
       "      <td>2.0</td>\n",
       "      <td>2.0</td>\n",
       "      <td>5.0</td>\n",
       "      <td>4.0</td>\n",
       "      <td>2.0</td>\n",
       "      <td>5.0</td>\n",
       "      <td>4.0</td>\n",
       "      <td>4.0</td>\n",
       "      <td>1.0</td>\n",
       "      <td>3.0</td>\n",
       "      <td>5.0</td>\n",
       "      <td>1.0</td>\n",
       "      <td>1.0</td>\n",
       "      <td>3.0</td>\n",
       "      <td>4.0</td>\n",
       "      <td>1.0</td>\n",
       "      <td>3.0</td>\n",
       "      <td>1.0</td>\n",
       "      <td>3.0</td>\n",
       "      <td>1</td>\n",
       "      <td>4.0</td>\n",
       "      <td>5.0</td>\n",
       "      <td>4.0</td>\n",
       "      <td>3.0</td>\n",
       "      <td>2.0</td>\n",
       "      <td>1.0</td>\n",
       "      <td>1.0</td>\n",
       "      <td>1.0</td>\n",
       "      <td>4</td>\n",
       "      <td>2.0</td>\n",
       "      <td>3</td>\n",
       "      <td>i am always on time</td>\n",
       "      <td>never</td>\n",
       "      <td>3.0</td>\n",
       "      <td>4.0</td>\n",
       "      <td>3.0</td>\n",
       "      <td>4.0</td>\n",
       "      <td>3.0</td>\n",
       "      <td>4.0</td>\n",
       "      <td>3.0</td>\n",
       "      <td>5.0</td>\n",
       "      <td>1.0</td>\n",
       "      <td>1.0</td>\n",
       "      <td>3.0</td>\n",
       "      <td>5.0</td>\n",
       "      <td>5.0</td>\n",
       "      <td>1.0</td>\n",
       "      <td>4.0</td>\n",
       "      <td>5.0</td>\n",
       "      <td>1.0</td>\n",
       "      <td>4.0</td>\n",
       "      <td>3.0</td>\n",
       "      <td>2.0</td>\n",
       "      <td>3.0</td>\n",
       "      <td>4.0</td>\n",
       "      <td>3.0</td>\n",
       "      <td>few hours a day</td>\n",
       "      <td>3.0</td>\n",
       "      <td>4.0</td>\n",
       "      <td>5.0</td>\n",
       "      <td>3.0</td>\n",
       "      <td>3.0</td>\n",
       "      <td>1</td>\n",
       "      <td>3.0</td>\n",
       "      <td>20.0</td>\n",
       "      <td>163.0</td>\n",
       "      <td>48.0</td>\n",
       "      <td>1.0</td>\n",
       "      <td>female</td>\n",
       "      <td>right handed</td>\n",
       "      <td>college/bachelor degree</td>\n",
       "      <td>no</td>\n",
       "      <td>village</td>\n",
       "      <td>block of flats</td>\n",
       "    </tr>\n",
       "    <tr>\n",
       "      <th>1</th>\n",
       "      <td>4.0</td>\n",
       "      <td>4.0</td>\n",
       "      <td>2.0</td>\n",
       "      <td>1.0</td>\n",
       "      <td>1.0</td>\n",
       "      <td>1.0</td>\n",
       "      <td>2.0</td>\n",
       "      <td>3.0</td>\n",
       "      <td>5.0</td>\n",
       "      <td>4.0</td>\n",
       "      <td>4.0</td>\n",
       "      <td>1.0</td>\n",
       "      <td>3.0</td>\n",
       "      <td>1.0</td>\n",
       "      <td>4.0</td>\n",
       "      <td>4.0</td>\n",
       "      <td>2.0</td>\n",
       "      <td>1.0</td>\n",
       "      <td>1.0</td>\n",
       "      <td>5.0</td>\n",
       "      <td>2.0</td>\n",
       "      <td>2.0</td>\n",
       "      <td>4.0</td>\n",
       "      <td>3.0</td>\n",
       "      <td>4.0</td>\n",
       "      <td>1.0</td>\n",
       "      <td>3.0</td>\n",
       "      <td>5.0</td>\n",
       "      <td>4.0</td>\n",
       "      <td>1.0</td>\n",
       "      <td>4.0</td>\n",
       "      <td>1.0</td>\n",
       "      <td>3.0</td>\n",
       "      <td>4.0</td>\n",
       "      <td>5.0</td>\n",
       "      <td>2.0</td>\n",
       "      <td>4.0</td>\n",
       "      <td>4.0</td>\n",
       "      <td>5.0</td>\n",
       "      <td>1.0</td>\n",
       "      <td>1.0</td>\n",
       "      <td>4.0</td>\n",
       "      <td>4.0</td>\n",
       "      <td>5.0</td>\n",
       "      <td>1.0</td>\n",
       "      <td>2.0</td>\n",
       "      <td>2.0</td>\n",
       "      <td>2.0</td>\n",
       "      <td>1.0</td>\n",
       "      <td>1.0</td>\n",
       "      <td>1.0</td>\n",
       "      <td>1.0</td>\n",
       "      <td>1.0</td>\n",
       "      <td>1.0</td>\n",
       "      <td>1.0</td>\n",
       "      <td>1.0</td>\n",
       "      <td>2.0</td>\n",
       "      <td>3.0</td>\n",
       "      <td>3.0</td>\n",
       "      <td>2.0</td>\n",
       "      <td>4.0</td>\n",
       "      <td>2.0</td>\n",
       "      <td>5.0</td>\n",
       "      <td>1.0</td>\n",
       "      <td>1.0</td>\n",
       "      <td>1.0</td>\n",
       "      <td>2.0</td>\n",
       "      <td>1.0</td>\n",
       "      <td>1</td>\n",
       "      <td>1.0</td>\n",
       "      <td>3.0</td>\n",
       "      <td>1.0</td>\n",
       "      <td>4.0</td>\n",
       "      <td>never smoked</td>\n",
       "      <td>drink a lot</td>\n",
       "      <td>3.0</td>\n",
       "      <td>3.0</td>\n",
       "      <td>2.0</td>\n",
       "      <td>4.0</td>\n",
       "      <td>5.0</td>\n",
       "      <td>4.0</td>\n",
       "      <td>1.0</td>\n",
       "      <td>4.0</td>\n",
       "      <td>4.0</td>\n",
       "      <td>3.0</td>\n",
       "      <td>4.0</td>\n",
       "      <td>3.0</td>\n",
       "      <td>2.0</td>\n",
       "      <td>1.0</td>\n",
       "      <td>2.0</td>\n",
       "      <td>5.0</td>\n",
       "      <td>4.0</td>\n",
       "      <td>4.0</td>\n",
       "      <td>1.0</td>\n",
       "      <td>2.0</td>\n",
       "      <td>1</td>\n",
       "      <td>2.0</td>\n",
       "      <td>4.0</td>\n",
       "      <td>3.0</td>\n",
       "      <td>2.0</td>\n",
       "      <td>4.0</td>\n",
       "      <td>4.0</td>\n",
       "      <td>4.0</td>\n",
       "      <td>1.0</td>\n",
       "      <td>3</td>\n",
       "      <td>1.0</td>\n",
       "      <td>3</td>\n",
       "      <td>i am often early</td>\n",
       "      <td>sometimes</td>\n",
       "      <td>3.0</td>\n",
       "      <td>4.0</td>\n",
       "      <td>4.0</td>\n",
       "      <td>4.0</td>\n",
       "      <td>4.0</td>\n",
       "      <td>2.0</td>\n",
       "      <td>4.0</td>\n",
       "      <td>2.0</td>\n",
       "      <td>2.0</td>\n",
       "      <td>5.0</td>\n",
       "      <td>4.0</td>\n",
       "      <td>4.0</td>\n",
       "      <td>4.0</td>\n",
       "      <td>1.0</td>\n",
       "      <td>4.0</td>\n",
       "      <td>3.0</td>\n",
       "      <td>5.0</td>\n",
       "      <td>3.0</td>\n",
       "      <td>4.0</td>\n",
       "      <td>5.0</td>\n",
       "      <td>3.0</td>\n",
       "      <td>2.0</td>\n",
       "      <td>3.0</td>\n",
       "      <td>few hours a day</td>\n",
       "      <td>3.0</td>\n",
       "      <td>4.0</td>\n",
       "      <td>1.0</td>\n",
       "      <td>4.0</td>\n",
       "      <td>2.0</td>\n",
       "      <td>5</td>\n",
       "      <td>2.0</td>\n",
       "      <td>19.0</td>\n",
       "      <td>163.0</td>\n",
       "      <td>58.0</td>\n",
       "      <td>2.0</td>\n",
       "      <td>female</td>\n",
       "      <td>right handed</td>\n",
       "      <td>college/bachelor degree</td>\n",
       "      <td>no</td>\n",
       "      <td>city</td>\n",
       "      <td>block of flats</td>\n",
       "    </tr>\n",
       "  </tbody>\n",
       "</table>\n",
       "</div>"
      ],
      "text/plain": [
       "   Music  Slow songs or fast songs  Dance  Folk  Country  Classical music  \\\n",
       "0    5.0                       3.0    2.0   1.0      2.0              2.0   \n",
       "1    4.0                       4.0    2.0   1.0      1.0              1.0   \n",
       "\n",
       "   Musical  Pop  Rock  Metal or Hardrock  Punk  Hiphop, Rap  Reggae, Ska  \\\n",
       "0      1.0  5.0   5.0                1.0   1.0          1.0          1.0   \n",
       "1      2.0  3.0   5.0                4.0   4.0          1.0          3.0   \n",
       "\n",
       "   Swing, Jazz  Rock n roll  Alternative  Latino  Techno, Trance  Opera  \\\n",
       "0          1.0          3.0          1.0     1.0             1.0    1.0   \n",
       "1          1.0          4.0          4.0     2.0             1.0    1.0   \n",
       "\n",
       "   Movies  Horror  Thriller  Comedy  Romantic  Sci-fi  War  \\\n",
       "0     5.0     4.0       2.0     5.0       4.0     4.0  1.0   \n",
       "1     5.0     2.0       2.0     4.0       3.0     4.0  1.0   \n",
       "\n",
       "   Fantasy/Fairy tales  Animated  Documentary  Western  Action  History  \\\n",
       "0                  5.0       5.0          3.0      1.0     2.0      1.0   \n",
       "1                  3.0       5.0          4.0      1.0     4.0      1.0   \n",
       "\n",
       "   Psychology  Politics  Mathematics  Physics  Internet   PC  \\\n",
       "0         5.0       1.0          3.0      3.0       5.0  3.0   \n",
       "1         3.0       4.0          5.0      2.0       4.0  4.0   \n",
       "\n",
       "   Economy Management  Biology  Chemistry  Reading  Geography  \\\n",
       "0                 5.0      3.0        3.0      3.0        3.0   \n",
       "1                 5.0      1.0        1.0      4.0        4.0   \n",
       "\n",
       "   Foreign languages  Medicine  Law  Cars  Art exhibitions  Religion  \\\n",
       "0                5.0       3.0  1.0   1.0              1.0       1.0   \n",
       "1                5.0       1.0  2.0   2.0              2.0       1.0   \n",
       "\n",
       "   Countryside, outdoors  Dancing  Musical instruments  Writing  \\\n",
       "0                    5.0      3.0                  3.0      2.0   \n",
       "1                    1.0      1.0                  1.0      1.0   \n",
       "\n",
       "   Passive sport  Active sport  Gardening  Celebrities  Shopping  \\\n",
       "0            1.0           5.0        5.0          1.0       4.0   \n",
       "1            1.0           1.0        1.0          2.0       3.0   \n",
       "\n",
       "   Science and technology  Theatre  Fun with friends  Adrenaline sports  Pets  \\\n",
       "0                     4.0      2.0               5.0                4.0   4.0   \n",
       "1                     3.0      2.0               4.0                2.0   5.0   \n",
       "\n",
       "   Flying  Storm  Darkness  Heights  Spiders  Snakes  Rats  Ageing  \\\n",
       "0     1.0    1.0       1.0      1.0      1.0       5   3.0     1.0   \n",
       "1     1.0    1.0       1.0      2.0      1.0       1   1.0     3.0   \n",
       "\n",
       "   Dangerous dogs  Fear of public speaking       Smoking      Alcohol  \\\n",
       "0             3.0                      2.0  never smoked  drink a lot   \n",
       "1             1.0                      4.0  never smoked  drink a lot   \n",
       "\n",
       "   Healthy eating  Daily events  Prioritising workload  Writing notes  \\\n",
       "0             4.0           2.0                    2.0            5.0   \n",
       "1             3.0           3.0                    2.0            4.0   \n",
       "\n",
       "   Workaholism  Thinking ahead  Final judgement  Reliability  \\\n",
       "0          4.0             2.0              5.0          4.0   \n",
       "1          5.0             4.0              1.0          4.0   \n",
       "\n",
       "   Keeping promises  Loss of interest  Friends versus money  Funniness  Fake  \\\n",
       "0               4.0               1.0                   3.0        5.0   1.0   \n",
       "1               4.0               3.0                   4.0        3.0   2.0   \n",
       "\n",
       "   Criminal damage  Decision making  Elections  Self-criticism  \\\n",
       "0              1.0              3.0        4.0             1.0   \n",
       "1              1.0              2.0        5.0             4.0   \n",
       "\n",
       "   Judgment calls  Hypochondria  Empathy  Eating to survive  Giving  \\\n",
       "0             3.0           1.0      3.0                  1     4.0   \n",
       "1             4.0           1.0      2.0                  1     2.0   \n",
       "\n",
       "   Compassion to animals  Borrowed stuff  Loneliness  Cheating in school  \\\n",
       "0                    5.0             4.0         3.0                 2.0   \n",
       "1                    4.0             3.0         2.0                 4.0   \n",
       "\n",
       "   Health  Changing the past  God  Dreams  Charity  Number of friends  \\\n",
       "0     1.0                1.0  1.0       4      2.0                  3   \n",
       "1     4.0                4.0  1.0       3      1.0                  3   \n",
       "\n",
       "           Punctuality      Lying  Waiting  New environment  Mood swings  \\\n",
       "0  i am always on time      never      3.0              4.0          3.0   \n",
       "1     i am often early  sometimes      3.0              4.0          4.0   \n",
       "\n",
       "   Appearence and gestures  Socializing  Achievements  \\\n",
       "0                      4.0          3.0           4.0   \n",
       "1                      4.0          4.0           2.0   \n",
       "\n",
       "   Responding to a serious letter  Children  Assertiveness  Getting angry  \\\n",
       "0                             3.0       5.0            1.0            1.0   \n",
       "1                             4.0       2.0            2.0            5.0   \n",
       "\n",
       "   Knowing the right people  Public speaking  Unpopularity  Life struggles  \\\n",
       "0                       3.0              5.0           5.0             1.0   \n",
       "1                       4.0              4.0           4.0             1.0   \n",
       "\n",
       "   Happiness in life  Energy levels  Small - big dogs  Personality  \\\n",
       "0                4.0            5.0               1.0          4.0   \n",
       "1                4.0            3.0               5.0          3.0   \n",
       "\n",
       "   Finding lost valuables  Getting up  Interests or hobbies  Parents' advice  \\\n",
       "0                     3.0         2.0                   3.0              4.0   \n",
       "1                     4.0         5.0                   3.0              2.0   \n",
       "\n",
       "   Questionnaires or polls   Internet usage  Finances  Shopping centres  \\\n",
       "0                      3.0  few hours a day       3.0               4.0   \n",
       "1                      3.0  few hours a day       3.0               4.0   \n",
       "\n",
       "   Branded clothing  Entertainment spending  Spending on looks  \\\n",
       "0               5.0                     3.0                3.0   \n",
       "1               1.0                     4.0                2.0   \n",
       "\n",
       "   Spending on gadgets  Spending on healthy eating   Age  Height  Weight  \\\n",
       "0                    1                         3.0  20.0   163.0    48.0   \n",
       "1                    5                         2.0  19.0   163.0    58.0   \n",
       "\n",
       "   Number of siblings  Gender Left - right handed                Education  \\\n",
       "0                 1.0  female        right handed  college/bachelor degree   \n",
       "1                 2.0  female        right handed  college/bachelor degree   \n",
       "\n",
       "  Only child Village - town House - block of flats  \n",
       "0         no        village         block of flats  \n",
       "1         no           city         block of flats  "
      ]
     },
     "execution_count": 9,
     "metadata": {},
     "output_type": "execute_result"
    }
   ],
   "source": [
    "young.head(2)"
   ]
  },
  {
   "cell_type": "code",
   "execution_count": null,
   "metadata": {
    "_cell_guid": "d69c56d2-aaa3-4b6a-8080-1510558c26e8",
    "_execution_state": "idle",
    "_uuid": "82e75cd8766ca6e6b35c146d12ee81fa60f46db4"
   },
   "outputs": [],
   "source": [
    "young.describe()"
   ]
  },
  {
   "cell_type": "markdown",
   "metadata": {
    "_cell_guid": "323d89bc-8f98-4474-a9eb-1265ad005bdc",
    "_uuid": "758a182125932348954cbfbd77667494d3a09e78"
   },
   "source": [
    "## Exploratory analysis\n",
    "### Missing values\n"
   ]
  },
  {
   "cell_type": "code",
   "execution_count": null,
   "metadata": {
    "_cell_guid": "c93cf4bc-3298-44ba-b084-bdf7485708be",
    "_execution_state": "idle",
    "_uuid": "6c7a1a4f778a50313a4b6fb8a1bea0bb63943810"
   },
   "outputs": [],
   "source": [
    "nulls = young.isnull().sum().sort_values(ascending=False)\n",
    "nulls.plot(\n",
    "    kind='bar', figsize=(23, 5))"
   ]
  },
  {
   "cell_type": "markdown",
   "metadata": {
    "_cell_guid": "29e8f6b9-7a6b-477c-a595-3365ce0e246b",
    "_uuid": "98359e8e8ee9166fdc39804aa3d7275a121f4e90"
   },
   "source": [
    "Missing values are always a pain because we do not know why people did not fill this field or maybe there was a post-processing error (how the data was transfered to the digital form) in the dataset. \"In 2013, students of the Statistics class at FSEV UK were asked to invite their friends to participate in this survey.\" Might be that participants of the survey, knowing that their data will be analyzed by their friends did not provide information like Age, Weight and Height because that are the main features according to which one can be identified."
   ]
  },
  {
   "cell_type": "code",
   "execution_count": null,
   "metadata": {
    "_cell_guid": "db5341bf-7dce-4258-809d-c0152355fa1f",
    "_execution_state": "idle",
    "_uuid": "04b2e0f2383ddf6a4df04399734aa851502f9fe3"
   },
   "outputs": [],
   "source": [
    "print('Number of girls who omitted weight field: {:.0f}'.format(\n",
    "    young[young['Gender'] == 'female']['Weight'].isnull().sum()))\n",
    "print('Number of boys who omitted weight field: {:.0f}'.format(\n",
    "    young[young['Gender'] == 'male']['Weight'].isnull().sum()))\n",
    "print('Number of girls who omitted height field: {:.0f}'.format(\n",
    "    young[young['Gender'] == 'female']['Height'].isnull().sum()))\n",
    "print('Number of boys who omitted height field: {:.0f}'.format(\n",
    "    young[young['Gender'] == 'male']['Height'].isnull().sum()))"
   ]
  },
  {
   "cell_type": "markdown",
   "metadata": {
    "_cell_guid": "67386110-2968-4188-89dd-e7467d2c7538",
    "_uuid": "5bf37d3289594a7171ff7b4899540eed8427515e"
   },
   "source": [
    "Outch! Those numbers look weird. There is an amazing observation called Twyman's Law, which states: \"Any piece of data or evidence that looks interesting or unusual is probably wrong!\" Lets zoom on individuals of those NAs values."
   ]
  },
  {
   "cell_type": "code",
   "execution_count": null,
   "metadata": {
    "_cell_guid": "7aea2fb7-4e04-41a5-b1c8-5549415b8a9b",
    "_execution_state": "idle",
    "_uuid": "e07408ede8bb663ff239372031ec9c691a2610d5"
   },
   "outputs": [],
   "source": [
    "omitted = young[(young['Weight'].isnull()) | young['Height'].isnull()]\n",
    "print('Number of people with omitted weight or height: {:.0f}'.format(omitted.shape[0]))\n",
    "nas = omitted.drop(['Weight', 'Height', 'Number of siblings', 'Age'], 1).isnull().sum().sum()\n",
    "print('Number of fields that were omitted by people who did not fill Weight or Height: {:.0f}'.format(nas))"
   ]
  },
  {
   "cell_type": "markdown",
   "metadata": {
    "_cell_guid": "d324dffb-9578-4db8-9d99-d631a9a3c819",
    "_uuid": "5f084a0a5f8e1486a4e6f420d92ff6444d08b45d"
   },
   "source": [
    "Interestingly, that those who omitted height or weight or age or number of sibligs omitted obly 18 otehr fields, what supports the hypothesis regarding the age, weight and height identification. In further we will impute the missing values."
   ]
  },
  {
   "cell_type": "markdown",
   "metadata": {
    "_cell_guid": "6bf3d3d4-9b3f-4e9b-bdc3-ebb9cd0e3a13",
    "_uuid": "02e25ac6b1c923fffca355054b2f0c21fac09574"
   },
   "source": [
    "## Understanding our goal"
   ]
  },
  {
   "cell_type": "markdown",
   "metadata": {
    "_cell_guid": "508f7e7d-2088-4fcc-8783-02bd56b499ab",
    "_uuid": "2f658b24b70f89b4b31dec177d650fae483f1afc"
   },
   "source": [
    "As I mentioned, the focus will be on the analysis of urban and rural areas. So, we drop records that are missing in 'Village - town' column.\n",
    "\n",
    "Btw as I always try to automatize/generalize things, this kernel can be used for analysis of other variables of interest. Just change 'var_of_interest', mapping and two fields in ML section."
   ]
  },
  {
   "cell_type": "code",
   "execution_count": null,
   "metadata": {
    "_cell_guid": "277c132c-4269-4f77-b966-7f81e0295cce",
    "_execution_state": "idle",
    "_uuid": "89a63c9e26aba2a636fe70842d4292cf017d9ad3"
   },
   "outputs": [],
   "source": [
    "var_of_interest = 'Village - town'\n",
    "mapping = {var_of_interest: {'city': 0, 'village': 1}}\n",
    "young.dropna(subset=[var_of_interest], inplace=True)\n",
    "# to be able to use hue parameter for better comparison in seaborn\n",
    "young[\"all\"] = \"\""
   ]
  },
  {
   "cell_type": "code",
   "execution_count": null,
   "metadata": {
    "_cell_guid": "60ca63d8-e9d8-41b1-9eb1-eb3849dc6a30",
    "_execution_state": "idle",
    "_uuid": "b84ec2fe36eb97bdca84a5d5361e6032339eb555"
   },
   "outputs": [],
   "source": [
    "fig, ax = plt.subplots(nrows=1, ncols=2, figsize=(15, 5))\n",
    "sns.countplot(y=var_of_interest, data=young, ax=ax[0])\n",
    "sns.countplot(y=var_of_interest, hue='Gender', data=young, ax=ax[1])\n",
    "plt.xticks(fontsize=14)\n",
    "plt.yticks(fontsize=14)"
   ]
  },
  {
   "cell_type": "markdown",
   "metadata": {
    "_cell_guid": "cae0d83c-0f2d-41bc-8755-ee5ad3a8286e",
    "_uuid": "b01d61d8c86196c1c430e9cab1a4577d9c007e10"
   },
   "source": [
    "The classes are highly imbalanced, there are twice so many people used to live in city then in the village. Imbalanced classes could be a problem for ML algorithms, we will discuss how to solve it but here are some ideas: oversampling, undersampling, (nice package to use is from imblearn.over_sampling.SMOTE)  and class weights defintions."
   ]
  },
  {
   "cell_type": "markdown",
   "metadata": {
    "_cell_guid": "4c98f123-2107-4276-875f-93279240f71a",
    "_uuid": "2ee8c7a4dc93b7c37c64a49b9218e8fd22935a4f"
   },
   "source": [
    "## Outliers"
   ]
  },
  {
   "cell_type": "markdown",
   "metadata": {
    "_cell_guid": "d6ae943b-6fab-402f-aa1b-0ba779f2876a",
    "_uuid": "8dc994fe384a1fe3982e5ea3ec2ce804ff3ddd62"
   },
   "source": [
    "Lets have a look if there are any differences in height, weight or age between people from urban and rural areas"
   ]
  },
  {
   "cell_type": "code",
   "execution_count": null,
   "metadata": {
    "_cell_guid": "5cb76472-008c-4b89-a70d-c1ae4a428f5f",
    "_execution_state": "idle",
    "_uuid": "1e16c9d5386ef60806b1fef238a4f2fc22958969"
   },
   "outputs": [],
   "source": [
    "fig, ax = plt.subplots(nrows=1, ncols=3, figsize=(20,5))\n",
    "data = young.dropna(subset=['Height'])\n",
    "sns.violinplot(x='Height', y = \"all\", hue=var_of_interest, data=data, split=True, ax = ax[0]);\n",
    "data = young.dropna(subset=['Weight'])\n",
    "sns.violinplot(x='Weight', y = \"all\", hue=var_of_interest, data=data, split=True, ax = ax[1]);\n",
    "\n",
    "var_of_int_ser = young[var_of_interest]\n",
    "sns.distplot(young[var_of_int_ser=='village'].Age.dropna(),\n",
    "             label='village', ax=ax[2], kde=False, bins=30);\n",
    "\n",
    "sns.distplot(young[var_of_int_ser=='city'].Age.dropna(),\n",
    "             label='city', ax=ax[2], kde=False, bins=30);\n",
    "ax[2].legend()\n"
   ]
  },
  {
   "cell_type": "markdown",
   "metadata": {
    "_cell_guid": "2dd66000-81af-4162-a560-5c910ed5873c",
    "_uuid": "13ca864aa53d084ee4b509767816d302cf8e4458"
   },
   "source": [
    "As we see there are some outliers that disturb the visualisation."
   ]
  },
  {
   "cell_type": "code",
   "execution_count": null,
   "metadata": {
    "_cell_guid": "e7716ca0-05b0-410d-8e0d-30152c68153b",
    "_execution_state": "idle",
    "_uuid": "8ea5905549409dabdaf972f4381f35056305977c"
   },
   "outputs": [],
   "source": [
    "display(young[young['Height']<70][['Age', 'Height', 'Weight', 'Gender', var_of_interest]])\n",
    "display(young[young['Weight']>120][['Age', 'Height', 'Weight', 'Gender', var_of_interest]])"
   ]
  },
  {
   "cell_type": "markdown",
   "metadata": {
    "_cell_guid": "426c6b89-feab-4ad9-bfa3-142dd1063159",
    "_uuid": "b37709ae4b8792b1083285f50edf3ccb7c98eec2"
   },
   "source": [
    "Also, keep in mind that participants could have mistaken the fields, so instead of writing their height in 'height' field, they could have written it in 'weight' field (165 kg could be actually intended to be 165 cm) . Or have just made a mistake while filling up the questionnaire (so 62 cm could have been 162 cm).\n",
    "We will exclude two outliers because they might be just an error in the dataset and two guys who are weight more than 125 kg."
   ]
  },
  {
   "cell_type": "code",
   "execution_count": null,
   "metadata": {
    "_cell_guid": "563a083d-cc60-4bd3-8d96-f8d9d3cb3697",
    "_execution_state": "idle",
    "_uuid": "bc60e44f91f5eed6c032cace087e6c82dbaf7bcc"
   },
   "outputs": [],
   "source": [
    "young.drop([676,885,992, 859], inplace = True)"
   ]
  },
  {
   "cell_type": "code",
   "execution_count": null,
   "metadata": {
    "_cell_guid": "f3280d2b-a670-4d57-8832-3e1765497c7d",
    "_execution_state": "idle",
    "_uuid": "40d9e9a8b810a46a14e66fc3458ae939a5cfe84f"
   },
   "outputs": [],
   "source": [
    "fig, ax = plt.subplots(nrows=1, ncols=2, figsize=(12,5))\n",
    "data = young.dropna(subset=['Height'])\n",
    "sns.violinplot(x='Height', y=\"all\", hue=var_of_interest, data=data, \n",
    "                   split=True, ax=ax[0], inner='quartile');\n",
    "\n",
    "data = young.dropna(subset=['Weight'])\n",
    "sns.violinplot(x='Weight', y=\"all\", hue=var_of_interest, data=data, \n",
    "                   split=True, ax=ax[1], inner='quartile');"
   ]
  },
  {
   "cell_type": "markdown",
   "metadata": {
    "_cell_guid": "e9c659cf-2b8e-43fc-9e64-74320bcd1031",
    "_uuid": "d35da6200213e84d17570ec85ec535cad24b9dc8"
   },
   "source": [
    "Interestingly, there is a small secong hill in Height in city people around 185 cm. The horizontal lines are quartiles."
   ]
  },
  {
   "cell_type": "markdown",
   "metadata": {
    "_cell_guid": "fbbb2d6c-51d3-4390-bb1e-987184cbc877",
    "_uuid": "0d68b1776ae4717da38c4d8b555c5b971cbec6fa"
   },
   "source": [
    "As TheTS mentioned in the comments, we could look at BMI of rural versus urban people. BMI is calculated as follows: weight/height^2. The hypothesis is that urban people will have a lower BMI as they might spend more times outdoors."
   ]
  },
  {
   "cell_type": "code",
   "execution_count": null,
   "metadata": {
    "_cell_guid": "4e416cec-d831-416a-9cac-13d9fa712947",
    "_uuid": "3e4b92caa3ebf35c08fbd6cc917b13ffc3953989"
   },
   "outputs": [],
   "source": [
    "young['BMI'] = round(young['Weight']/((young['Height']/100)**2),1)\n",
    "fig, ax = plt.subplots(nrows=1, ncols=1, figsize=(15,5))\n",
    "data = young.dropna(subset=['BMI'])\n",
    "sns.violinplot(x='BMI', hue=var_of_interest, y='Gender', data=data, \n",
    "               split=True, inner='quartile', ax=ax);\n"
   ]
  },
  {
   "cell_type": "markdown",
   "metadata": {
    "_cell_guid": "ac0414f1-4e5c-4cdc-9871-1ba996c706dc",
    "_uuid": "3944080f9d72c3a934d8f328a9dc6f93d800b337"
   },
   "source": [
    "Surprisingly, the BMI of villagers is higher than of urban people. We can quickly check if it is significant. For that we will use a a two-sample one-sided t-test. "
   ]
  },
  {
   "cell_type": "code",
   "execution_count": null,
   "metadata": {
    "_cell_guid": "5e02920a-17b9-4083-ac07-be19a130eb29",
    "_uuid": "035adeff27a7a8fe5d5fa02ee79dd02b4c800927"
   },
   "outputs": [],
   "source": [
    "import scipy.stats as stats\n",
    "city_bmi = data[data[var_of_interest]=='city'].BMI\n",
    "village_bmi  = data[data[var_of_interest]=='village'].BMI\n",
    "t, p = stats.ttest_ind(village_bmi, city_bmi, axis=0, equal_var=False)\n",
    "print(' t-stat = {t} \\n p-value = {p}'.format(t=t,p=p/2))\n"
   ]
  },
  {
   "cell_type": "markdown",
   "metadata": {
    "_cell_guid": "9b6659d3-19cc-40d9-8546-c6a8c1f3afaa",
    "_uuid": "6fc5f81a772b749a7ad59a08d3a63057c66cdd10"
   },
   "source": [
    "p-value is less than 0.05. There is indeed a significant difference in BMI.\n",
    "BUT lets look at different age categories. We will have only two categories: under 20 and above 20. There are two main reasons for choosing this threshold:\n",
    "1. Around the age of 20 people start to think about theit sport and food habits.\n",
    "2. The question os the survey is forumlated as \"I spent most of my childhood in a village or city\". Most of 20 years old are still either living in the places where they spent their childhood or just have left them, meaning they were just shortly under its influence."
   ]
  },
  {
   "cell_type": "code",
   "execution_count": null,
   "metadata": {
    "_cell_guid": "5e93e908-065c-4a7c-b032-68868e773090",
    "_uuid": "332a20961ec8882fe5932baec12f37948be9e568"
   },
   "outputs": [],
   "source": [
    "fig, ax = plt.subplots(nrows=2, ncols=1, figsize=(15,6))\n",
    "data_under = data[data['Age']<20]\n",
    "data_above = data[data['Age']>=20]\n",
    "sns.violinplot(x='BMI', hue=var_of_interest, y='Gender', data=data_under, split=True, \n",
    "                   inner = 'quartile', ax=ax[0], hue_order=['village', 'city']);\n",
    "sns.violinplot(x='BMI', hue=var_of_interest, y='Gender', data=data_above, split=True, \n",
    "                   inner = 'quartile', ax=ax[1], hue_order=['village', 'city']);\n"
   ]
  },
  {
   "cell_type": "markdown",
   "metadata": {
    "_cell_guid": "37200016-17e8-4476-85aa-76bf6f70c01c",
    "_uuid": "e25c96836dc6e08f98209ed1080161908aa12078"
   },
   "source": [
    "What a surprise! The major drive of the difference is the BMI of males under 20 years old. Watson, we need to dig deeper! Lets have a look of how many individuals are causing this shift."
   ]
  },
  {
   "cell_type": "code",
   "execution_count": null,
   "metadata": {
    "_cell_guid": "a2de95a7-f6dc-4fd6-8757-32304da94551",
    "_uuid": "a3f8e42cf54983ee5f2d186c39ffd3f126d7709b"
   },
   "outputs": [],
   "source": [
    "fig, ax = plt.subplots(nrows=1, ncols=1, figsize=(15,6))\n",
    "sns.violinplot(x='BMI', hue=var_of_interest, y='Gender', data=data_under, \n",
    "               split=True, inner='stick', ax=ax, hue_order=['village', 'city']);\n"
   ]
  },
  {
   "cell_type": "markdown",
   "metadata": {
    "_cell_guid": "5b55d599-e9ca-40e5-81ef-3489f1308824",
    "_uuid": "afa0f9095f97e1c8af20a4c273b7db1e17036e26"
   },
   "source": [
    "My explanation for this inetresting fact is that in the cities young boys have much more sport possibilities and trainings than do have the rural boys. However, I would be happy to hear your reasoning :)"
   ]
  },
  {
   "cell_type": "markdown",
   "metadata": {
    "_cell_guid": "8e2f5479-52a9-4fd8-a1b6-c5a8efde2c9c",
    "_uuid": "4449ac3a55c01f47d59d0d416684b6ea9dae5730"
   },
   "source": [
    "## Interesting differences"
   ]
  },
  {
   "cell_type": "markdown",
   "metadata": {
    "_cell_guid": "02891f0f-f247-4a62-b695-fb1580b151a8",
    "_uuid": "486cf181be9030a8b31a7203a7a966c23792bf7b"
   },
   "source": [
    "In this section we will analyze differences between the individuals based on the area of living."
   ]
  },
  {
   "cell_type": "markdown",
   "metadata": {
    "_cell_guid": "c1b6c06d-03e6-4c64-8d9d-435fdba49c33",
    "_uuid": "db5683c425abb2134a5efd67b777b88f8c4823c5"
   },
   "source": [
    "## Correlation"
   ]
  },
  {
   "cell_type": "markdown",
   "metadata": {
    "_cell_guid": "1208fa6c-9001-4adb-b8b3-a703d7378065",
    "_uuid": "a57c00a6e0f0b63ebf95ad220a860e1460dcc435"
   },
   "source": [
    "Firstly, look at correlations between the charachteristics and the urban-rural area. Correlation describes the degree of relationship between two variables. However, it tells nothing about the causuality. Just a small example, the anti-violent gaming policies say that there is a correlation between time spent on playing violent computer games and a violent behaviour. In fact, we do not know if a the computer games make a person violent ora violent person would play more violent games.  "
   ]
  },
  {
   "cell_type": "markdown",
   "metadata": {
    "_cell_guid": "dd1f5212-ea41-431e-916e-dc2cb77e42aa",
    "_uuid": "b9115ea7fd809143ac7d4ee9fca55165edc5bdc3"
   },
   "source": [
    "(Btw, I am a big fan of long-lasting code and functions that can be applied on different datasets :) ). So, the function correlation_plot can be applied on different datasets. The function produces two plots: one for numerical features, another for categorical."
   ]
  },
  {
   "cell_type": "code",
   "execution_count": null,
   "metadata": {
    "_cell_guid": "65f72db1-f33f-4529-9577-a3e0c342f17a",
    "_execution_state": "idle",
    "_uuid": "78b19e7abbbe1069d968d49451a4c2437d1aad7c"
   },
   "outputs": [],
   "source": [
    "def do_ploting(x, y, figsize):\n",
    "    fig, ax = plt.subplots(figsize=figsize)\n",
    "    ax.set_title(\"Correlation coefficient of the variables\")\n",
    "    sns.barplot(x=x, y=y, ax=ax)\n",
    "    ax.set_ylabel(\"Correlation coefficients\")\n",
    "\n",
    "\n",
    "def correlation_plot(var_of_interest, df_main, mapping, figsize=(10, 30)):\n",
    "    def calc_corr(var_of_interest, df, cols, figsize):\n",
    "        lbls = []\n",
    "        vals = []\n",
    "        for col in cols:\n",
    "            lbls.append(col)\n",
    "            vals.append(np.corrcoef(df[col], df[var_of_interest])[0, 1])\n",
    "        corrs = pd.DataFrame({'features': lbls, 'corr_values': vals})\n",
    "        corrs = corrs.sort_values(by='corr_values')\n",
    "        do_ploting(corrs.corr_values, corrs['features'], figsize)\n",
    "        return corrs\n",
    "\n",
    "    #imputing the set\n",
    "    df = copy.deepcopy(df_main)\n",
    "    df.replace(mapping, inplace=True)\n",
    "    mean_values = df.mean(axis=0)\n",
    "    df.fillna(mean_values, inplace=True)\n",
    "\n",
    "    #correlating non-categorical varibales\n",
    "    cols_floats = [col for col in df.columns if df[col].dtype != 'object']\n",
    "    cols_floats.remove(var_of_interest)\n",
    "    corrs_one = calc_corr(var_of_interest, df, cols_floats, figsize)\n",
    "\n",
    "    #correlating categorical variables\n",
    "    cols_cats = [col for col in df.columns if df[col].dtype == 'object']\n",
    "    if cols_cats:\n",
    "        df_dummies = pd.get_dummies(df[cols_cats])\n",
    "        cols_cats = df_dummies.columns\n",
    "        df_dummies[var_of_interest] = df[var_of_interest]\n",
    "        corrs_two = calc_corr(var_of_interest, df_dummies, cols_cats, (5, 10))\n",
    "    else:\n",
    "        corrs_two = 0\n",
    "    return [corrs_one, corrs_two]"
   ]
  },
  {
   "cell_type": "code",
   "execution_count": null,
   "metadata": {
    "_cell_guid": "46ba6e0e-b7b7-4bdf-ad64-d4ab3060ae62",
    "_execution_state": "idle",
    "_uuid": "1ceb0f2392b638adf147c97f8a33c54bb985d771",
    "scrolled": false
   },
   "outputs": [],
   "source": [
    "corrs_area = correlation_plot(var_of_interest, young, mapping)"
   ]
  },
  {
   "cell_type": "markdown",
   "metadata": {
    "_cell_guid": "9babcdc4-14a1-4c54-87ec-d4287a5b9d10",
    "_uuid": "207cbc31a97d1d92cf9770209ad86373ccc44241"
   },
   "source": [
    "The strongest correlations that we have are coming fro the house type and it is quite logical because people in the village would live most of the time in the houses. Other correlations that are not that strong are the associations with God and Spending on looks. We will dig into it.\n",
    "\n"
   ]
  },
  {
   "cell_type": "code",
   "execution_count": null,
   "metadata": {
    "_cell_guid": "265d1d0a-3b9b-4a1f-89bd-74076d0794b1",
    "_execution_state": "idle",
    "_uuid": "5e36d2bc1f1592a635cffe35a9b284b463a69a30"
   },
   "outputs": [],
   "source": [
    "#The strongest correlations that we have are  \n",
    "corr_num = corrs_area[0]\n",
    "corr_cats = corrs_area[1]\n",
    "display(corr_num[corr_num.corr_values == max(corr_num.corr_values)])\n",
    "display(corr_num[corr_num.corr_values == min(corr_num.corr_values)])\n",
    "display(corr_cats[corr_cats.corr_values == max(corr_cats.corr_values)])\n",
    "display(corr_cats[corr_cats.corr_values == min(corr_cats.corr_values)])"
   ]
  },
  {
   "cell_type": "markdown",
   "metadata": {
    "_cell_guid": "9cc06f7f-cea2-4d5a-baec-6be4f491c251",
    "_uuid": "19f7bf02a33ef1616a8b8e23001fcae8889d0d7a"
   },
   "source": [
    "## Characteristic differences"
   ]
  },
  {
   "cell_type": "markdown",
   "metadata": {
    "_cell_guid": "75ac7bcc-1cb7-4c97-9e15-a66db03a5553",
    "_uuid": "875061af6669258f6c504f8b1c5baefea83c1e56"
   },
   "source": [
    "I have picked the features that were different among people from urban and rural areas. The plot of all features can be found at the end of this notebook."
   ]
  },
  {
   "cell_type": "code",
   "execution_count": null,
   "metadata": {
    "_cell_guid": "f186b56b-95bd-422a-8ab7-b7ec4f2e1606",
    "_execution_state": "idle",
    "_uuid": "693930a4452360920fcee67775b701fd97a7ebc4"
   },
   "outputs": [],
   "source": [
    "good_columns = ['Dance', 'Folk', 'Techno, Trance','Religion', 'Medicine', 'Countryside, outdoors',\n",
    "                'Spending on gadgets','Hypochondria','Western', 'Eating to survive', \n",
    "                'God', 'Chemistry', 'Gardening', 'Politics','Economy Management',\n",
    "                'Branded clothing', 'Friends versus money','Number of siblings', 'Snakes',\n",
    "                'Storm', 'Rats', 'Country', 'Dangerous dogs', 'Finances', 'Spiders', \n",
    "                'Entertainment spending', 'Horror', 'Pets', 'Prioritising workload', 'Dancing',\n",
    "                'Biology', 'Final judgement', 'Sci-fi', 'Spending on looks']\n",
    "fig, ax = plt.subplots(nrows=5, ncols=7 ,figsize=(30,40), sharex=True)\n",
    "start = 0\n",
    "for j in range(5):\n",
    "    for i in range(7):\n",
    "        if start == len(good_columns):\n",
    "            break\n",
    "        sns.barplot(y=good_columns[start], x=var_of_interest, data=young, ax=ax[j,i])\n",
    "        ax[j,i].set_ylabel('')\n",
    "        ax[j,i].set_xlabel('')\n",
    "        ax[j,i].set_title(good_columns[start], fontsize=25)\n",
    "        start += 1\n"
   ]
  },
  {
   "cell_type": "markdown",
   "metadata": {
    "_cell_guid": "0c01d842-3c82-4d14-8be7-f8e3c59fefe5",
    "_uuid": "c9873a85bbdfcf08876f8cc21c3b3dcf4f2cda8c"
   },
   "source": [
    "There are several interesting observations:\n",
    "\n",
    "People from rural area are more into folk music; are more likely to spend time outdoors gardening; also there are more interested in biology, medicine and chemistry. It is quite logical as people in villages are often more close to the nature and therefore would spend time outdoors exploring. Also, the phobias of snakes, rats, dangerous dogs and storm are well-marked in people living in rural areas as they could have had a direct contact to it and know about the circumstances. On the other hand, they are less afraid of the spiders which again can be explained due to the fact that they were more exposed to the nature. Village-livers are more hypochondriac than city-livers which can be explained that there are less hospitals and doctors in villages.\n",
    "\n",
    "What is a bit striking is that peopel from rural areas are more religios (Religion and God) than in the city. Additionaly, they are proned to \"Final judgement\" aka \"I believe that bad people will suffer one day and good people will be rewarded\". It can also have something to do with the stronger belief in God.\n",
    "\n",
    "City-livers would spend more money on looks, entertainment and branded clothing as norally cities offer much more possibilitie to go shopping and have more entertainment facilities than the villages. Also, they would spend more time on gadgets."
   ]
  },
  {
   "cell_type": "code",
   "execution_count": null,
   "metadata": {
    "_cell_guid": "affc91d7-5787-470a-b9ee-75963810d31e",
    "_execution_state": "idle",
    "_uuid": "7b92da8653742333ab51800465f18b389fad2a58"
   },
   "outputs": [],
   "source": [
    "features_cats = [col for col in young.columns if young[col].dtype=='object']\n",
    "features_cats.remove(var_of_interest)\n",
    "fig, ax = plt.subplots(nrows=2, ncols=5,figsize=(20,10), sharex=True)\n",
    "start = 0\n",
    "for j in range(2):\n",
    "    for i in range(5):\n",
    "        tab = pd.crosstab(young[var_of_interest], young[features_cats[start]])\n",
    "        tab_prop = tab.div(tab.sum(1).astype(float), axis=0)\n",
    "        tab_prop.plot(kind=\"bar\", stacked=True, ax=ax[j,i] )\n",
    "        start += 1"
   ]
  },
  {
   "cell_type": "markdown",
   "metadata": {
    "_cell_guid": "73b9ccff-474d-4781-bbd4-655b10f3588d",
    "_uuid": "51781a7f26bb3205e827c3554c9f5ba03d608df1"
   },
   "source": [
    "In the categorial features only one thing catches the eye, namelly, that village-livers mst of the time live in the houses comparing to the city livers who most live in the flat. That is also self-explanatory."
   ]
  },
  {
   "cell_type": "markdown",
   "metadata": {
    "_cell_guid": "6c0b6562-0990-47b3-a10f-17120830878a",
    "_uuid": "e1890d8f91bf180e94803d000432280c68512134"
   },
   "source": [
    "## Multicollinearity"
   ]
  },
  {
   "cell_type": "markdown",
   "metadata": {
    "_cell_guid": "e54c1d96-cb20-42be-952f-870dd9591d5a",
    "_uuid": "28a3f3a8328f6b472411e88151408cc3484073e2"
   },
   "source": [
    "Apart from outliers and missing values, multicollinearity is another common issue. Some ML algorithms like Random Forest do not suffer from multicollinearity, whereas linear regression could have problems with it. \n",
    "\n",
    "So, it would be quite exciting to look which characteristics are correlated in our data set."
   ]
  },
  {
   "cell_type": "code",
   "execution_count": null,
   "metadata": {
    "_cell_guid": "25a61eec-152e-4cfc-a535-c85879dc2208",
    "_execution_state": "idle",
    "_uuid": "bb4f8602287879c4f724e7c3ffd92b07d06910cf"
   },
   "outputs": [],
   "source": [
    "corr = young.corr()\n",
    "# code: https://stackoverflow.com/questions/17778394/list-highest-correlation-pairs-from-a-large-correlation-matrix-in-pandas\n",
    "# the matrix is symmetric so we need to extract upper triangle matrix without diagonal (k = 1)\n",
    "\n",
    "os = (corr.where(np.triu(np.ones(corr.shape), k=1).astype(np.bool))\n",
    "                 .stack()\n",
    "                 .sort_values(ascending=False))\n",
    "display(os.head(10))\n",
    "display(os.tail(10))"
   ]
  },
  {
   "cell_type": "markdown",
   "metadata": {
    "_cell_guid": "9b605ee8-6f7e-47cb-8e64-fe917cae6c19",
    "_uuid": "35da7c09d6f7363a467e8e46dd842fe71535134e"
   },
   "source": [
    "The most correlated features are Height and Weight, what again self-explanaroty. People who are interested in Biology are also interested in Medicne and Chemistry. The same for Fantasy/Fairy tales and  Animated movies.\n",
    "\n",
    "You might ask why there is a negative correlation between Life struggles, Weight and Heigt. I will disclose it a the end ;) and will confront once again with the definition of correlation."
   ]
  },
  {
   "cell_type": "markdown",
   "metadata": {
    "_cell_guid": "ee948202-d135-4350-994d-be428140f437",
    "_uuid": "be9fbfd7369e5017bf522447ffda3b7b152343d2"
   },
   "source": [
    "Meanwhile lets have a look on the correlations amoung out good features."
   ]
  },
  {
   "cell_type": "code",
   "execution_count": null,
   "metadata": {
    "_cell_guid": "fe935cbb-8c8b-48e3-816a-23a085eb9b20",
    "_execution_state": "idle",
    "_uuid": "ce963b1e34f7c88591755953bc6d9fc7d4aa9976"
   },
   "outputs": [],
   "source": [
    "corr = young[good_columns].corr()\n",
    "mask = np.zeros_like(corr, dtype=np.bool)\n",
    "mask[np.triu_indices_from(mask)] = True\n",
    "f, ax = plt.subplots(figsize=(11, 9))\n",
    "cmap = sns.diverging_palette(220, 10, as_cmap=True)\n",
    "sns.heatmap(\n",
    "    corr,\n",
    "    mask=mask,\n",
    "    cmap=cmap,\n",
    "    vmax=.3,\n",
    "    center=0,\n",
    "    square=True,\n",
    "    linewidths=.5,\n",
    "    cbar_kws={\"shrink\": .5})"
   ]
  },
  {
   "cell_type": "markdown",
   "metadata": {
    "_cell_guid": "c9b93310-e288-4503-8964-e4f7bc60f395",
    "_uuid": "7d05ccffd1f1ea0306ecf54f44a52293bf4ce30b"
   },
   "source": [
    "There is indeed a correlation between Final Judgement and God! Religios people tend to believe more that the bas ones will suffer."
   ]
  },
  {
   "cell_type": "code",
   "execution_count": null,
   "metadata": {
    "_cell_guid": "e709df8b-eddd-467d-a168-011bffe4d677",
    "_execution_state": "idle",
    "_uuid": "b3a0bba325df3211487df867eb495e154f0f7e9e"
   },
   "outputs": [],
   "source": [
    "print (os['Final judgement'][0:2])"
   ]
  },
  {
   "cell_type": "code",
   "execution_count": null,
   "metadata": {
    "_cell_guid": "6cc3c70b-c8d4-4dd0-af98-5bee310c6415",
    "_execution_state": "idle",
    "_uuid": "d081c4800489d1886eea7198d684def76b1bf408"
   },
   "outputs": [],
   "source": [
    "print (os['Religion'][0:2])"
   ]
  },
  {
   "cell_type": "markdown",
   "metadata": {
    "_cell_guid": "a481bd3b-2525-40af-abe9-d24f378b35c8",
    "_uuid": "9be67afd6b05200e0d9a3d0881810d54cf3adf82"
   },
   "source": [
    "The ones who spend money on entertainment, also spend money on looks and gadgets."
   ]
  },
  {
   "cell_type": "code",
   "execution_count": null,
   "metadata": {
    "_cell_guid": "d8317416-bede-457c-8a07-5fcba5db89ae",
    "_execution_state": "idle",
    "_uuid": "b187db96bbbd956e180d886a3bfaca73ed353ed0"
   },
   "outputs": [],
   "source": [
    "print (os['Entertainment spending'])"
   ]
  },
  {
   "cell_type": "markdown",
   "metadata": {
    "_cell_guid": "9cdb031a-23e6-42ff-953b-3e3df47fb2f3",
    "_uuid": "10af0ebe4c222fc528fc81d37b03ec5eb0ca8b57"
   },
   "source": [
    "Lets exclude of the element from the correlation pair once the correlation is more than 0.5"
   ]
  },
  {
   "cell_type": "code",
   "execution_count": null,
   "metadata": {
    "_cell_guid": "e7ebb2a6-78d3-4ccb-9d52-a9597a85ecf3",
    "_execution_state": "idle",
    "_uuid": "a8dad1706ddcb5cc1a67aefd2b0dfeb4d3c82d13"
   },
   "outputs": [],
   "source": [
    "corr = young.corr()\n",
    "os = (corr.where(np.triu(np.ones(corr.shape), k=1).astype(np.bool))\n",
    "                 .stack()\n",
    "                 .sort_values(ascending=False))\n",
    "display(os[abs(os)>0.5])\n",
    "drop_colinera_cols = os[abs(os)>0.5].reset_index()['level_1']"
   ]
  },
  {
   "cell_type": "markdown",
   "metadata": {
    "_cell_guid": "dc324b01-6229-4ad9-9d2e-e0ad9ecaf8bc",
    "_uuid": "0fac64d4e431b7619d5915e13d4a5df8143e8d98"
   },
   "source": [
    "### Preparing the dataset for ML"
   ]
  },
  {
   "cell_type": "code",
   "execution_count": null,
   "metadata": {
    "_cell_guid": "f4dedcc5-3593-4a1a-ad6b-a849b39e1099",
    "_execution_state": "idle",
    "_uuid": "452bca2e5a49d5584ca5e6c724766d9efbac6acd"
   },
   "outputs": [],
   "source": [
    "clean_data = young.dropna(subset=[var_of_interest])\n",
    "features_int = [col for col in clean_data.columns if clean_data[col].dtype!='object']\n",
    "features_cats = [col for col in clean_data.columns if clean_data[col].dtype=='object']\n",
    "\n",
    "features_int = list(set(features_int) - set(drop_colinera_cols))\n",
    "print ('Number of features {:.0f}'.format(len(features_int)))"
   ]
  },
  {
   "cell_type": "markdown",
   "metadata": {
    "_cell_guid": "ebbfcb9a-3d4b-4161-9c67-374b31de8793",
    "_uuid": "46b2b72f1294881322e02e1ae55c1211a73c33da"
   },
   "source": [
    "We will impute missing values with the mean, althought there are some better solutions to do it, like imputing Height and Weight according to the Gender or taking randomly a value in the range [mean - std, mean + std]"
   ]
  },
  {
   "cell_type": "code",
   "execution_count": null,
   "metadata": {
    "_cell_guid": "c31c6f09-14de-4a00-8f76-cfb5c8991555",
    "_execution_state": "idle",
    "_uuid": "6b965870650f0bd173279adceb755ad20b766e1a"
   },
   "outputs": [],
   "source": [
    "X = clean_data[features_int]\n",
    "mean_values = X.mean(axis=0)\n",
    "X = X.apply(lambda x: x.fillna(x.mean()),axis=0)\n",
    "#X_cats = clean_data[features_cats].drop(var_of_interest, 1)\n",
    "#X_cats = X_cats.drop('House - block of flats', 1)\n",
    "#X_cats = pd.get_dummies(X_cats)\n",
    "#print(X.shape)\n",
    "#print(X_cats.shape)"
   ]
  },
  {
   "cell_type": "code",
   "execution_count": null,
   "metadata": {
    "_cell_guid": "45c3f7e7-ec29-436e-8df2-7f0a618076de",
    "_execution_state": "idle",
    "_uuid": "6f46ee157859814b1bf74368584003c15e04c772"
   },
   "outputs": [],
   "source": [
    "Y = clean_data[var_of_interest]\n",
    "for key, val in mapping[var_of_interest].items():\n",
    "    Y.replace(key,val, inplace = True)\n",
    "x_train, x_test, y_train, y_test = train_test_split(X, Y, test_size=.3, random_state=100)"
   ]
  },
  {
   "cell_type": "markdown",
   "metadata": {
    "_cell_guid": "ac5670a9-f28b-498b-b29c-75603f2cdf50",
    "_uuid": "cfbb476d92cf403a241e61e07acc171614be0396"
   },
   "source": [
    "It is also a good idea to have a look on the distrubtion once me imputed the values to be sure that we did not disrupt it."
   ]
  },
  {
   "cell_type": "code",
   "execution_count": null,
   "metadata": {
    "_cell_guid": "95646c6a-2345-4a95-9280-3d8fe196824e",
    "_execution_state": "idle",
    "_uuid": "5c945e1908a52e6e9a00c155791fe990b455cc37"
   },
   "outputs": [],
   "source": [
    "fig, ax = plt.subplots(nrows=1, ncols=2, figsize=(20,5))\n",
    "\n",
    "sns.kdeplot(X.Height,label = 'Before imputation', ax = ax[0]);\n",
    "sns.kdeplot(clean_data.Height, label = 'After imputation', ax = ax[0]);\n",
    "ax[0].set_title('Height');\n",
    "\n",
    "sns.kdeplot(X.Age,label = 'Before imputation', ax = ax[1]);\n",
    "sns.kdeplot(clean_data.Age, label = 'After imputation', ax = ax[1]);\n",
    "ax[1].set_title('Age');\n",
    "\n",
    "#sns.kdeplot(X.Weight,label = 'Before imputation', ax = ax[2])\n",
    "#sns.kdeplot(clean_data.Weight, label = 'After imputation' , ax = ax[2])\n",
    "#ax[2].set_title('Weight')"
   ]
  },
  {
   "cell_type": "markdown",
   "metadata": {
    "_cell_guid": "0f071493-fd54-4058-807e-a4815d28e46f",
    "_uuid": "5a7acd0eb9b8629071bbbcc3856f97b7e7cf4362"
   },
   "source": [
    "## Machine Learning"
   ]
  },
  {
   "cell_type": "markdown",
   "metadata": {
    "_cell_guid": "4b6ebc12-7c51-4460-9ba9-a523a956b77c",
    "_uuid": "0833473775cf5878a0a6cc4fdddb179e1fbc560e"
   },
   "source": [
    "We will standardize variables to be sure that everything is on whie scale as it plays quite an important role in regularization as we will apply logistic regression. The goal is to find variables that have more effect on the dependent variable (aka rural or urban liver).\n",
    "\n",
    "(One also could use another metric to optimize like f1 but in fact accuracy metrix performed somehow better on this dataset regarding the f1 and accuracy score on test set.)"
   ]
  },
  {
   "cell_type": "code",
   "execution_count": null,
   "metadata": {
    "_cell_guid": "9fc3963a-804a-40c8-9a95-f1c305d07e4c",
    "_execution_state": "idle",
    "_uuid": "7ca2e11d3d52942d555d10b7548354cea13ac179"
   },
   "outputs": [],
   "source": [
    "# standardization\n",
    "from sklearn.preprocessing import StandardScaler\n",
    "scaler = StandardScaler()\n",
    "scaler.fit(x_train)\n",
    "x_train = scaler.transform(x_train)\n",
    "x_test = scaler.transform(x_test)"
   ]
  },
  {
   "cell_type": "code",
   "execution_count": null,
   "metadata": {
    "_cell_guid": "60bb63c4-8467-4eda-9c6b-dae8d76d759c",
    "_execution_state": "idle",
    "_uuid": "26b739bf72e694656ea0f4adc17eecd2e7854df5"
   },
   "outputs": [],
   "source": [
    "# gridsearch for parameter tuning\n",
    "from sklearn.linear_model import LogisticRegression\n",
    "clr = LogisticRegression()\n",
    "KF = KFold(len(x_train), n_folds=5)\n",
    "param_grid = {'C':[.001,.01,.03,.1,.3,1,3,10]}\n",
    "grsearch = GridSearchCV(clr, param_grid=param_grid, cv=KF, scoring = 'f1')\n",
    "grsearch.fit(x_train, y_train)\n",
    "print(grsearch.best_params_)\n",
    "\n",
    "# fitting logistic regression and evaluating\n",
    "clr = LogisticRegression(C=grsearch.best_params_['C'])\n",
    "clr.fit(x_train, y_train)\n",
    "\n",
    "mean_accuracy = np.mean(cross_val_score(clr, x_train, y_train, cv=KF))\n",
    "print('Average accuracy score on CV set: {:.2f}'.format(mean_accuracy))\n",
    "\n",
    "mean_f1 = np.mean(cross_val_score(clr, x_train, y_train, cv=KF, scoring = 'f1'))\n",
    "print('Average f1 on CV set: {:.2f}'.format(mean_f1))\n",
    "print('')\n",
    "print('Accuracy score on test set is: {:.2f}'.format(clr.score(x_test, y_test)))\n",
    "recall = recall_score(y_test, clr.predict(x_test))\n",
    "print ('Recall on test: {:.2f}'.format(recall))\n",
    "precision = precision_score(y_test, clr.predict(x_test))\n",
    "print ('Presicion on test: {:.2f}'.format(precision))\n",
    "print ('F1 score on test: {:.2f}'.format((2*recall*precision /(recall + precision))))\n"
   ]
  },
  {
   "cell_type": "markdown",
   "metadata": {
    "_cell_guid": "970d4e20-fe05-4e45-93bf-d8d551e6bcc3",
    "_uuid": "9460248d31383c8d240ff596d2012e5a8138c619"
   },
   "source": [
    "\n",
    "Lets look at the impact of all features on our rural-village liver classification. And no worries, we will zoom in."
   ]
  },
  {
   "cell_type": "code",
   "execution_count": null,
   "metadata": {
    "_cell_guid": "0d434409-f003-461c-b494-febbf79b1b11",
    "_execution_state": "idle",
    "_uuid": "0e611259303723f7e7a6e7376bb12bdff2bbef6a"
   },
   "outputs": [],
   "source": [
    "feat_coeff = pd.DataFrame({'features': X.columns,'impacts': clr.coef_[0]})\n",
    "feat_coeff = feat_coeff.sort_values('impacts', ascending=False)\n",
    "\n",
    "fig, ax1 = plt.subplots(1,1, figsize=(30,6));\n",
    "sns.barplot(x=feat_coeff.features, y=feat_coeff.impacts, ax=ax1);\n",
    "ax1.set_title('All features', size=30);\n",
    "ax1.set_xticklabels(labels=feat_coeff.features, size=20, rotation=90);\n",
    "ax1.set_ylabel('Impact', size=30);"
   ]
  },
  {
   "cell_type": "markdown",
   "metadata": {
    "_cell_guid": "2d21c5cb-5939-42b3-bfb1-1a0b00c9a7b1",
    "_uuid": "14492ce329a993ccd8a3b096c7d43ce917dd90fd"
   },
   "source": [
    "Zooming on only top 12 features based on their coefficients:"
   ]
  },
  {
   "cell_type": "code",
   "execution_count": null,
   "metadata": {
    "_cell_guid": "bfb12e29-5659-491b-ae6b-6c277d89ab21",
    "_execution_state": "idle",
    "_uuid": "51cfb8bf307eef1a1693c0b289d9112746084f08"
   },
   "outputs": [],
   "source": [
    "top10 = pd.concat([feat_coeff.head(6),feat_coeff.tail(6)])\n",
    "fig, ax1 = plt.subplots(1,1, figsize=(10,6))\n",
    "sns.barplot(y=top10.features, x=top10.impacts, ax=ax1);\n",
    "ax1.set_title('Top 12 features', size=20);\n",
    "ax1.set_yticklabels(labels=top10.features, size=15);\n",
    "ax1.set_xlabel('Impact', size=20);"
   ]
  },
  {
   "cell_type": "markdown",
   "metadata": {
    "_cell_guid": "7d502fe4-7cad-4607-ad7d-84fa8a63d8fe",
    "_uuid": "96125d28c3609bb5fab51b5a6692282fa6f0765a"
   },
   "source": [
    "You can interpret it as : For every unit change in gardening (so, you thought ok, it is actually 5 not 4) the log odds of you having lived in city is decreased by 0.156. \n",
    "\n",
    "It will get a bit simplier if we exponetiate the coefficients. The interpretation would be then: For every unit change in gardening the odds of you having lived in city is decreased by a factor exp(-0.156) = 0.8555592 (or by 85%).  "
   ]
  },
  {
   "cell_type": "markdown",
   "metadata": {
    "_cell_guid": "8aedda0f-7e17-4c22-a6b1-dba025296167",
    "_uuid": "82be0387996a01c0fb3b40038ac80171db6141e8"
   },
   "source": [
    "Disclaimer: As we have quite lots of features and only 1K samples, it would be good to do somekind of feature selection as linear models tend to suffer from non-informative features. (see Max Kuhn \"Applied Predictive Modeling\", Feature Selection)"
   ]
  },
  {
   "cell_type": "markdown",
   "metadata": {
    "_cell_guid": "9efa65c6-dd71-4b72-92d7-652c727a4f2a",
    "_uuid": "2efc188f1b63450311684d511686ed0de6f96625"
   },
   "source": [
    "**Insights:**\n",
    "* Gardening, fear of dogs and storm, as well as religion decrease the odds of having lived in the city. Rural area livers are more exposed to gardening and might have more experience with dangerous dogs. As well as storm might have a more devastating effect on the village than on a city. People in the village are also typically a bit more religious than in the city.\n",
    "* The fear of spiders increase the odds of living in the city. It is also intuitive as city livers are less used to spiders than the village livers. \n",
    "\n",
    "Sci-fi genre of movies might, healthy eating and fear of public speaking as well as getting angry are a bit speculative. Do urban livers get angry faster also why do they prefer Sci-fi more?"
   ]
  },
  {
   "cell_type": "markdown",
   "metadata": {
    "_cell_guid": "e045d06e-fc4a-4902-b418-0fcf9c1f0506",
    "_uuid": "235afe8d74de91e4796c80fc0dd817aa2ce85911"
   },
   "source": [
    "## The dessert: negative correlation between Life struggles, Weight and Heigt"
   ]
  },
  {
   "cell_type": "code",
   "execution_count": null,
   "metadata": {
    "_cell_guid": "c226f78a-16c0-4a29-abec-56b864a1eb33",
    "_execution_state": "idle",
    "_uuid": "9eb81407ab8653763bf9fab35b00355727dc1fd6"
   },
   "outputs": [],
   "source": [
    "display(os.tail(3))"
   ]
  },
  {
   "cell_type": "markdown",
   "metadata": {
    "_cell_guid": "4961d5da-d404-43cc-b493-a1f74a4a2fb6",
    "_uuid": "20a5d99aa7dab759b9f58c26d2e55c957e21db62"
   },
   "source": [
    "To understand why there is a negative correlation between life struggles, weight and height I will change the objectives. Now, we want to analyze the data based on the gender difference. So, lets plot correlation of each variable against the gender."
   ]
  },
  {
   "cell_type": "code",
   "execution_count": null,
   "metadata": {
    "_cell_guid": "bd184a8c-97ec-4384-ac90-66e031da577b",
    "_execution_state": "idle",
    "_uuid": "19910b9506ff7f85ee6c98118df658a4619d2ba0"
   },
   "outputs": [],
   "source": [
    "cols_to_keep = ['Life struggles', 'Romantic', 'Shopping', \n",
    "                'Reading', 'Weight', 'Height', 'PC', \n",
    "                'Cars', 'Gender']\n",
    "gender_map = {'Gender': {'female': 0, 'male': 1}}\n",
    "corrs_dfs_gender = correlation_plot('Gender', young[cols_to_keep], gender_map, figsize=(5,5))"
   ]
  },
  {
   "cell_type": "markdown",
   "metadata": {
    "_cell_guid": "5ecead4e-b26b-4799-8c84-f9071a7c40b1",
    "_uuid": "59964aae8f2dc14b95472937035cc31690191277"
   },
   "source": [
    "And a regression that will help us to get more insights."
   ]
  },
  {
   "cell_type": "code",
   "execution_count": null,
   "metadata": {
    "_cell_guid": "7fbd21c5-3864-48bc-8671-8e358eaa50c2",
    "_execution_state": "idle",
    "_uuid": "139117b6310301b03359bf01432e97e42b525250",
    "scrolled": true
   },
   "outputs": [],
   "source": [
    "clean_data = young.dropna(subset=['Gender'])\n",
    "features_int = [col for col in clean_data.columns if clean_data[col].dtype!='object']\n",
    "X = clean_data[features_int]\n",
    "mean_values = X.mean(axis=0)\n",
    "X = X.apply(lambda x: x.fillna(x.mean()),axis=0)\n",
    "Y = clean_data['Gender']\n",
    "Y.replace('female',0, inplace = True)\n",
    "Y.replace('male',1, inplace = True)\n",
    "\n",
    "scaler = StandardScaler()\n",
    "scaler.fit(X)\n",
    "X = scaler.transform(X)\n",
    "\n",
    "clr = LogisticRegression()\n",
    "clr.fit(X, Y)\n",
    "feat_coeff = pd.DataFrame({'features': features_int,'impacts': clr.coef_[0]})\n",
    "feat_coeff = feat_coeff.sort_values('impacts', ascending=False)\n",
    "\n",
    "top10 = pd.concat([feat_coeff.head(8),feat_coeff.tail(8)])\n",
    "fig, ax1 = plt.subplots(1,1, figsize=(10,6))\n",
    "sns.barplot(y=top10.features, x=top10.impacts, ax=ax1);\n",
    "ax1.set_title('Top 16 features', size=20);\n",
    "ax1.set_yticklabels(labels=top10.features, size=15);\n",
    "ax1.set_xlabel('Impact', size=20);"
   ]
  },
  {
   "cell_type": "markdown",
   "metadata": {
    "_cell_guid": "2b97fa3b-84b4-4c41-9ebe-2dd424973e11",
    "_uuid": "65e9826d119185ddc8e7ee5bb51abc59caba61c5"
   },
   "source": [
    "Found it! If you are proned to \"I cry when I feel down or things don't go the right way.\" you are probably a woman :). But if you are tall, or weight a lot or like to \"PC Software, Hardware\" then you are probably a man.\n",
    "\n",
    "Negative correlation between Life struggles and Height/Weight was due to the female and male separation. Meaning, the taller you are (you are probably a male then) the less life struggles you have (which points to a woman)"
   ]
  },
  {
   "cell_type": "markdown",
   "metadata": {
    "_cell_guid": "0780cb10-4ddf-4f7c-ad53-0b99c6255457",
    "_uuid": "fc0d2f69b5f9ff5c26c26b19663d99e8eed1896e"
   },
   "source": [
    "**********************\n",
    "**I will be happy to hear remarks or comments. If you liked the Kernel, please upvote :)**\n",
    "\n",
    "\n",
    "**Have fun with the data!**\n",
    "***********************"
   ]
  },
  {
   "cell_type": "markdown",
   "metadata": {
    "_cell_guid": "e5e5fd3a-933c-4cae-b52d-dbc76c3bf3f0",
    "_uuid": "7fbf383e604b54f5255fe1f0c6e87321a377116b"
   },
   "source": [
    "### Additional plots"
   ]
  },
  {
   "cell_type": "markdown",
   "metadata": {
    "_cell_guid": "89ec465a-39a9-415c-96de-b2d854a537fb",
    "_uuid": "d2aa6b4a1c856b5a8b188c604408bf5c296fba2d"
   },
   "source": [
    "Plots for all variables in the objective."
   ]
  },
  {
   "cell_type": "code",
   "execution_count": null,
   "metadata": {
    "_cell_guid": "7e6167b1-28fe-4bf7-87a7-495034fed81a",
    "_execution_state": "idle",
    "_uuid": "3de53ccd5934f6b0e38d4fc3aa1dd38943062561",
    "scrolled": false
   },
   "outputs": [],
   "source": [
    "fig, ax = plt.subplots(nrows=15, ncols=8, figsize=(30, 70), sharex=True)\n",
    "start = 0\n",
    "for j in range(15):\n",
    "    for i in range(8):\n",
    "        sns.barplot(\n",
    "            y=features_int[start], x=var_of_interest, data=young, ax=ax[j, i])\n",
    "        ax[j, i].set_ylabel('')\n",
    "        ax[j, i].set_xlabel('')\n",
    "        ax[j, i].set_title(features_int[start], fontsize=25)\n",
    "        start += 1\n",
    "\n",
    "fig, ax = plt.subplots(nrows=1, ncols=4, figsize=(7, 2), sharex=True)\n",
    "\n",
    "for i in range(4):\n",
    "    sns.barplot(y=features_int[start], x=var_of_interest, data=young, ax=ax[i])\n",
    "    ax[i].set_ylabel('')\n",
    "    ax[i].set_xlabel('')\n",
    "    ax[i].set_title(features_int[start], fontsize=10)\n",
    "    start += 1"
   ]
  },
  {
   "cell_type": "markdown",
   "metadata": {
    "_cell_guid": "27d4ee69-f71d-4ec2-8fb4-8bf75c0f2fe9",
    "_uuid": "7797001a795eb10f29b507562dad6ffa91b9f1e1",
    "collapsed": true
   },
   "source": [
    "Initially I was intened to analyze the difference between left and high handed but the class distribution is even more imbalanced."
   ]
  },
  {
   "cell_type": "code",
   "execution_count": null,
   "metadata": {
    "_cell_guid": "b9dcfb78-ac99-400d-aad8-df30b56aa9c9",
    "_execution_state": "idle",
    "_uuid": "89f23a974391a6d273bbeda9ac51bfcc34f80dc7"
   },
   "outputs": [],
   "source": [
    "fig, ax = plt.subplots(nrows=15, ncols=9, figsize=(30, 70), sharex=True)\n",
    "start = 0\n",
    "for j in range(15):\n",
    "    for i in range(9):\n",
    "        sns.barplot(\n",
    "            y=features_int[start],\n",
    "            x='Left - right handed',\n",
    "            data=young,\n",
    "            ax=ax[j, i])\n",
    "        ax[j, i].set_ylabel('')\n",
    "        ax[j, i].set_xlabel('')\n",
    "        ax[j, i].set_title(features_int[start], fontsize=25)\n",
    "        start += 1\n",
    "\n",
    "fig, ax = plt.subplots(nrows=1, ncols=4, figsize=(7, 2), sharex=True)\n",
    "for i in range(4):\n",
    "    sns.barplot(\n",
    "        y=features_int[start], x='Left - right handed', data=young, ax=ax[i])\n",
    "    ax[i].set_ylabel('')\n",
    "    ax[i].set_xlabel('')\n",
    "    ax[i].set_title(features_int[start], fontsize=10)\n",
    "    start += 1"
   ]
  }
 ],
 "metadata": {
  "kernelspec": {
   "display_name": "Python 3",
   "language": "python",
   "name": "python3"
  },
  "language_info": {
   "codemirror_mode": {
    "name": "ipython",
    "version": 3
   },
   "file_extension": ".py",
   "mimetype": "text/x-python",
   "name": "python",
   "nbconvert_exporter": "python",
   "pygments_lexer": "ipython3",
   "version": "3.6.5"
  }
 },
 "nbformat": 4,
 "nbformat_minor": 1
}
