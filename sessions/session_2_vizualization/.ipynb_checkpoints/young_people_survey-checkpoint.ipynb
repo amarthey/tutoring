{
 "cells": [
  {
   "cell_type": "markdown",
   "metadata": {},
   "source": [
    "In 2013, students of the Statistics class at FSEV UK were asked to invite their friends to participate in this survey.\n",
    "\n",
    "The data file (responses.csv) consists of 1010 rows and 150 columns (139 integer and 11 categorical).\n",
    "For convenience, the original variable names were shortened in the data file. See the columns.csv file if you want to match the data with the original names.\n",
    "The data contain missing values.\n",
    "The survey was presented to participants in both electronic and written form.\n",
    "The original questionnaire was in Slovak language and was later translated into English.\n",
    "All participants were of Slovakian nationality, aged between 15-30.\n",
    "The variables can be split into the following groups:\n",
    "\n",
    "Music preferences (19 items)\n",
    "Movie preferences (12 items)\n",
    "Hobbies & interests (32 items)\n",
    "Phobias (10 items)\n",
    "Health habits (3 items)\n",
    "Personality traits, views on life, & opinions (57 items)\n",
    "Spending habits (7 items)\n",
    "Demographics (10 items)\n",
    "\n",
    "* Correlation analysis: Are there any connections between music and movie preferences?\n",
    "* Visualization: How to effectively visualize a lot of variables in order to gain some meaningful insights from the data?\n",
    "* (Multivariate) Outlier detection: Small number of participants often cheats and randomly answers the questions. Can you identify them? Hint: Local outlier factor may help.\n",
    "* Missing values analysis: Are there any patterns in missing responses? What is the optimal way of imputing the values in surveys?"
   ]
  },
  {
   "cell_type": "code",
   "execution_count": null,
   "metadata": {
    "_cell_guid": "7b9b5703-1e29-47f2-a1a9-2e0ba2db581f",
    "_execution_state": "idle",
    "_uuid": "8e20f5b53ce35391006b921cd79280cf3756d929"
   },
   "outputs": [],
   "source": [
    "import warnings\n",
    "warnings.filterwarnings(\"ignore\")\n",
    "import os \n",
    "import pandas as pd\n",
    "import copy\n",
    "import matplotlib.pyplot as plt\n",
    "import numpy as np\n",
    "import seaborn as sns\n",
    "\n",
    "# styling\n",
    "pd.set_option('display.max_columns',150)\n",
    "plt.style.use('bmh')\n",
    "from IPython.display import display\n",
    "\n",
    "# a bit of machine learning\n",
    "from sklearn.metrics import recall_score, precision_score\n",
    "from sklearn.model_selection import GridSearchCV\n",
    "from sklearn.model_selection import KFold, cross_val_score\n",
    "\n",
    "%matplotlib inline"
   ]
  },
  {
   "cell_type": "code",
   "execution_count": null,
   "metadata": {},
   "outputs": [],
   "source": [
    "dir_path = os.path.abspath('')"
   ]
  },
  {
   "cell_type": "code",
   "execution_count": null,
   "metadata": {},
   "outputs": [],
   "source": [
    "file = '/young-people-survey/responses.csv'"
   ]
  },
  {
   "cell_type": "code",
   "execution_count": null,
   "metadata": {
    "_cell_guid": "22243ad2-790b-4e36-8cf5-01a30210b580",
    "_execution_state": "idle",
    "_uuid": "130c13cbd4d1fcde16644265f1e288158ad97fe7"
   },
   "outputs": [],
   "source": [
    "young = pd.read_csv(os.path.join(dir_path + file))"
   ]
  },
  {
   "cell_type": "code",
   "execution_count": null,
   "metadata": {
    "_cell_guid": "f6c4f282-6184-4f64-a028-7a415e5815b6",
    "_execution_state": "idle",
    "_uuid": "6dd8dd30468941f0530a04ee7db7b3db0ea42269"
   },
   "outputs": [],
   "source": [
    "young.head(2)"
   ]
  },
  {
   "cell_type": "code",
   "execution_count": null,
   "metadata": {
    "_cell_guid": "d69c56d2-aaa3-4b6a-8080-1510558c26e8",
    "_execution_state": "idle",
    "_uuid": "82e75cd8766ca6e6b35c146d12ee81fa60f46db4"
   },
   "outputs": [],
   "source": [
    "young.describe()"
   ]
  },
  {
   "cell_type": "markdown",
   "metadata": {
    "_cell_guid": "323d89bc-8f98-4474-a9eb-1265ad005bdc",
    "_uuid": "758a182125932348954cbfbd77667494d3a09e78"
   },
   "source": [
    "## Exploratory analysis\n",
    "### Missing values\n"
   ]
  },
  {
   "cell_type": "code",
   "execution_count": null,
   "metadata": {
    "_cell_guid": "c93cf4bc-3298-44ba-b084-bdf7485708be",
    "_execution_state": "idle",
    "_uuid": "6c7a1a4f778a50313a4b6fb8a1bea0bb63943810"
   },
   "outputs": [],
   "source": [
    "nulls = young.isnull().sum().sort_values(ascending=False)\n",
    "nulls.plot(kind='bar', figsize=(23, 5))"
   ]
  },
  {
   "cell_type": "markdown",
   "metadata": {
    "_cell_guid": "29e8f6b9-7a6b-477c-a595-3365ce0e246b",
    "_uuid": "98359e8e8ee9166fdc39804aa3d7275a121f4e90"
   },
   "source": [
    "Missing values are always a pain because we do not know why people did not fill this field or maybe there was a post-processing error (how the data was transfered to the digital form) in the dataset. \"In 2013, students of the Statistics class at FSEV UK were asked to invite their friends to participate in this survey.\" Might be that participants of the survey, knowing that their data will be analyzed by their friends did not provide information like Age, Weight and Height because that are the main features according to which one can be identified."
   ]
  },
  {
   "cell_type": "code",
   "execution_count": null,
   "metadata": {
    "_cell_guid": "db5341bf-7dce-4258-809d-c0152355fa1f",
    "_execution_state": "idle",
    "_uuid": "04b2e0f2383ddf6a4df04399734aa851502f9fe3"
   },
   "outputs": [],
   "source": [
    "print('Number of girls who omitted weight field: {:.0f}'.format(\n",
    "    young[young['Gender'] == 'female']['Weight'].isnull().sum()))\n",
    "print('Number of boys who omitted weight field: {:.0f}'.format(\n",
    "    young[young['Gender'] == 'male']['Weight'].isnull().sum()))\n",
    "print('Number of girls who omitted height field: {:.0f}'.format(\n",
    "    young[young['Gender'] == 'female']['Height'].isnull().sum()))\n",
    "print('Number of boys who omitted height field: {:.0f}'.format(\n",
    "    young[young['Gender'] == 'male']['Height'].isnull().sum()))"
   ]
  },
  {
   "cell_type": "markdown",
   "metadata": {
    "_cell_guid": "67386110-2968-4188-89dd-e7467d2c7538",
    "_uuid": "5bf37d3289594a7171ff7b4899540eed8427515e"
   },
   "source": [
    "Outch! Those numbers look weird. There is an amazing observation called Twyman's Law, which states: \"Any piece of data or evidence that looks interesting or unusual is probably wrong!\" Lets zoom on individuals of those NAs values."
   ]
  },
  {
   "cell_type": "code",
   "execution_count": null,
   "metadata": {
    "_cell_guid": "7aea2fb7-4e04-41a5-b1c8-5549415b8a9b",
    "_execution_state": "idle",
    "_uuid": "e07408ede8bb663ff239372031ec9c691a2610d5"
   },
   "outputs": [],
   "source": [
    "omitted = young[(young['Weight'].isnull()) | young['Height'].isnull()]\n",
    "print('Number of people with omitted weight or height: {:.0f}'.format(omitted.shape[0]))\n",
    "nas = omitted.drop(['Weight', 'Height', 'Number of siblings', 'Age'], 1).isnull().sum().sum()\n",
    "print('Number of fields that were omitted by people who did not fill Weight or Height: {:.0f}'.format(nas))"
   ]
  },
  {
   "cell_type": "markdown",
   "metadata": {
    "_cell_guid": "6bf3d3d4-9b3f-4e9b-bdc3-ebb9cd0e3a13",
    "_uuid": "02e25ac6b1c923fffca355054b2f0c21fac09574"
   },
   "source": [
    "## Understanding our goal"
   ]
  },
  {
   "cell_type": "markdown",
   "metadata": {
    "_cell_guid": "508f7e7d-2088-4fcc-8783-02bd56b499ab",
    "_uuid": "2f658b24b70f89b4b31dec177d650fae483f1afc"
   },
   "source": [
    "As I mentioned, the focus will be on the analysis of urban and rural areas. So, we drop records that are missing in 'Village - town' column.\n",
    "\n",
    "Btw as I always try to automatize/generalize things, this kernel can be used for analysis of other variables of interest. Just change 'var_of_interest', mapping and two fields in ML section."
   ]
  },
  {
   "cell_type": "code",
   "execution_count": null,
   "metadata": {
    "_cell_guid": "277c132c-4269-4f77-b966-7f81e0295cce",
    "_execution_state": "idle",
    "_uuid": "89a63c9e26aba2a636fe70842d4292cf017d9ad3"
   },
   "outputs": [],
   "source": [
    "var_of_interest = 'Village - town'\n",
    "mapping = {var_of_interest: {'city': 0, 'village': 1}}\n",
    "young.dropna(subset=[var_of_interest], inplace=True)\n",
    "# to be able to use hue parameter for better comparison in seaborn\n",
    "young[\"all\"] = \"\""
   ]
  },
  {
   "cell_type": "code",
   "execution_count": null,
   "metadata": {
    "_cell_guid": "60ca63d8-e9d8-41b1-9eb1-eb3849dc6a30",
    "_execution_state": "idle",
    "_uuid": "b84ec2fe36eb97bdca84a5d5361e6032339eb555"
   },
   "outputs": [],
   "source": [
    "fig, ax = plt.subplots(nrows=1, ncols=2, figsize=(15, 5))\n",
    "sns.countplot(y=var_of_interest, data=young, ax=ax[0])\n",
    "sns.countplot(y=var_of_interest, hue='Gender', data=young, ax=ax[1])\n",
    "plt.xticks(fontsize=14)\n",
    "plt.yticks(fontsize=14)"
   ]
  },
  {
   "cell_type": "markdown",
   "metadata": {
    "_cell_guid": "cae0d83c-0f2d-41bc-8755-ee5ad3a8286e",
    "_uuid": "b01d61d8c86196c1c430e9cab1a4577d9c007e10"
   },
   "source": [
    "The classes are highly imbalanced, there are twice so many people used to live in city then in the village. Imbalanced classes could be a problem for ML algorithms, we will discuss how to solve it but here are some ideas: oversampling, undersampling, (nice package to use is from imblearn.over_sampling.SMOTE)  and class weights defintions."
   ]
  },
  {
   "cell_type": "markdown",
   "metadata": {
    "_cell_guid": "4c98f123-2107-4276-875f-93279240f71a",
    "_uuid": "2ee8c7a4dc93b7c37c64a49b9218e8fd22935a4f"
   },
   "source": [
    "## Outliers"
   ]
  },
  {
   "cell_type": "markdown",
   "metadata": {
    "_cell_guid": "d6ae943b-6fab-402f-aa1b-0ba779f2876a",
    "_uuid": "8dc994fe384a1fe3982e5ea3ec2ce804ff3ddd62"
   },
   "source": [
    "Lets have a look if there are any differences in height, weight or age between people from urban and rural areas"
   ]
  },
  {
   "cell_type": "code",
   "execution_count": null,
   "metadata": {
    "_cell_guid": "5cb76472-008c-4b89-a70d-c1ae4a428f5f",
    "_execution_state": "idle",
    "_uuid": "1e16c9d5386ef60806b1fef238a4f2fc22958969"
   },
   "outputs": [],
   "source": [
    "fig, ax = plt.subplots(nrows=1, ncols=3, figsize=(20,5))\n",
    "data = young.dropna(subset=['Height'])\n",
    "sns.violinplot(x='Height', y = \"all\", hue=var_of_interest, data=data, split=True, ax = ax[0]);\n",
    "data = young.dropna(subset=['Weight'])\n",
    "sns.violinplot(x='Weight', y = \"all\", hue=var_of_interest, data=data, split=True, ax = ax[1]);\n",
    "\n",
    "var_of_int_ser = young[var_of_interest]\n",
    "sns.distplot(young[var_of_int_ser=='village'].Age.dropna(),\n",
    "             label='village', ax=ax[2], kde=False, bins=30);\n",
    "\n",
    "sns.distplot(young[var_of_int_ser=='city'].Age.dropna(),\n",
    "             label='city', ax=ax[2], kde=False, bins=30);\n",
    "ax[2].legend()"
   ]
  },
  {
   "cell_type": "markdown",
   "metadata": {
    "_cell_guid": "2dd66000-81af-4162-a560-5c910ed5873c",
    "_uuid": "13ca864aa53d084ee4b509767816d302cf8e4458"
   },
   "source": [
    "As we see there are some outliers that disturb the visualisation."
   ]
  },
  {
   "cell_type": "code",
   "execution_count": null,
   "metadata": {
    "_cell_guid": "e7716ca0-05b0-410d-8e0d-30152c68153b",
    "_execution_state": "idle",
    "_uuid": "8ea5905549409dabdaf972f4381f35056305977c"
   },
   "outputs": [],
   "source": [
    "display(young[young['Height']<70][['Age', 'Height', 'Weight', 'Gender', var_of_interest]])\n",
    "display(young[young['Weight']>120][['Age', 'Height', 'Weight', 'Gender', var_of_interest]])"
   ]
  },
  {
   "cell_type": "markdown",
   "metadata": {
    "_cell_guid": "426c6b89-feab-4ad9-bfa3-142dd1063159",
    "_uuid": "b37709ae4b8792b1083285f50edf3ccb7c98eec2"
   },
   "source": [
    "Also, keep in mind that participants could have mistaken the fields, so instead of writing their height in 'height' field, they could have written it in 'weight' field (165 kg could be actually intended to be 165 cm) . Or have just made a mistake while filling up the questionnaire (so 62 cm could have been 162 cm).\n",
    "We will exclude two outliers because they might be just an error in the dataset and two guys who are weight more than 125 kg."
   ]
  },
  {
   "cell_type": "code",
   "execution_count": null,
   "metadata": {
    "_cell_guid": "563a083d-cc60-4bd3-8d96-f8d9d3cb3697",
    "_execution_state": "idle",
    "_uuid": "bc60e44f91f5eed6c032cace087e6c82dbaf7bcc"
   },
   "outputs": [],
   "source": [
    "young.drop([676,885,992, 859], inplace = True)"
   ]
  },
  {
   "cell_type": "code",
   "execution_count": null,
   "metadata": {
    "_cell_guid": "f3280d2b-a670-4d57-8832-3e1765497c7d",
    "_execution_state": "idle",
    "_uuid": "40d9e9a8b810a46a14e66fc3458ae939a5cfe84f"
   },
   "outputs": [],
   "source": [
    "fig, ax = plt.subplots(nrows=1, ncols=2, figsize=(12,5))\n",
    "data = young.dropna(subset=['Height'])\n",
    "sns.violinplot(x='Height', y=\"all\", hue=var_of_interest, data=data, \n",
    "                   split=True, ax=ax[0], inner='quartile');\n",
    "\n",
    "data = young.dropna(subset=['Weight'])\n",
    "sns.violinplot(x='Weight', y=\"all\", hue=var_of_interest, data=data, \n",
    "                   split=True, ax=ax[1], inner='quartile');"
   ]
  },
  {
   "cell_type": "markdown",
   "metadata": {
    "_cell_guid": "e9c659cf-2b8e-43fc-9e64-74320bcd1031",
    "_uuid": "d35da6200213e84d17570ec85ec535cad24b9dc8"
   },
   "source": [
    "Interestingly, there is a small second hill in Height in city people around 185 cm. The horizontal lines are quartiles."
   ]
  },
  {
   "cell_type": "markdown",
   "metadata": {
    "_cell_guid": "c1b6c06d-03e6-4c64-8d9d-435fdba49c33",
    "_uuid": "db5683c425abb2134a5efd67b777b88f8c4823c5"
   },
   "source": [
    "## Correlation"
   ]
  },
  {
   "cell_type": "markdown",
   "metadata": {
    "_cell_guid": "1208fa6c-9001-4adb-b8b3-a703d7378065",
    "_uuid": "a57c00a6e0f0b63ebf95ad220a860e1460dcc435"
   },
   "source": [
    "Firstly, look at correlations between the characteristics and the urban-rural area. Correlation describes the degree of relationship between two variables. However, it tells nothing about the causuality. Just a small example, the anti-violent gaming policies say that there is a correlation between time spent on playing violent computer games and a violent behaviour. In fact, we do not know if a the computer games make a person violent ora violent person would play more violent games.  "
   ]
  },
  {
   "cell_type": "code",
   "execution_count": null,
   "metadata": {},
   "outputs": [],
   "source": [
    "corr = young.corr()"
   ]
  },
  {
   "cell_type": "code",
   "execution_count": null,
   "metadata": {},
   "outputs": [],
   "source": [
    "mask = np.zeros_like(corr, dtype=np.bool)\n",
    "mask[np.triu_indices_from(mask)] = True\n",
    "\n",
    "# Set up the matplotlib figure\n",
    "f, ax = plt.subplots(figsize=(20, 20))\n",
    "\n",
    "# Generate a custom diverging colormap\n",
    "colormap = sns.diverging_palette(220, 10, as_cmap=True)\n",
    "\n",
    "# Draw the heatmap with the mask and correct aspect ratio\n",
    "sns.heatmap(corr,  \n",
    "            center=0,\n",
    "            linewidths=.5,\n",
    "            cmap=colormap)"
   ]
  },
  {
   "cell_type": "code",
   "execution_count": null,
   "metadata": {},
   "outputs": [],
   "source": [
    "def do_ploting(x, y, figsize):\n",
    "    fig, ax = plt.subplots(figsize=figsize)\n",
    "    ax.set_title(\"Correlation coefficient of the variables\")\n",
    "    sns.barplot(x=x, y=y, ax=ax)\n",
    "    ax.set_ylabel(\"Correlation coefficients\")"
   ]
  },
  {
   "cell_type": "code",
   "execution_count": null,
   "metadata": {
    "_cell_guid": "65f72db1-f33f-4529-9577-a3e0c342f17a",
    "_execution_state": "idle",
    "_uuid": "78b19e7abbbe1069d968d49451a4c2437d1aad7c"
   },
   "outputs": [],
   "source": [
    "def correlation_plot(var_of_interest, df_main, mapping, figsize=(10, 30)):\n",
    "    def calc_corr(var_of_interest, df, cols, figsize):\n",
    "        lbls = []\n",
    "        vals = []\n",
    "        for col in cols:\n",
    "            lbls.append(col)\n",
    "            vals.append(np.corrcoef(df[col], df[var_of_interest])[0, 1])\n",
    "        corrs = pd.DataFrame({'features': lbls, 'corr_values': vals})\n",
    "        corrs = corrs.sort_values(by='corr_values')\n",
    "        do_ploting(corrs.corr_values, corrs['features'], figsize)\n",
    "        return corrs\n",
    "\n",
    "    #imputing the set\n",
    "    df = copy.deepcopy(df_main)\n",
    "    df.replace(mapping, inplace=True)\n",
    "    mean_values = df.mean(axis=0)\n",
    "    df.fillna(mean_values, inplace=True)\n",
    "\n",
    "    #correlating non-categorical varibales\n",
    "    cols_floats = [col for col in df.columns if df[col].dtype != 'object']\n",
    "    cols_floats.remove(var_of_interest)\n",
    "    corrs_one = calc_corr(var_of_interest, df, cols_floats, figsize)\n",
    "\n",
    "    #correlating categorical variables\n",
    "    cols_cats = [col for col in df.columns if df[col].dtype == 'object']\n",
    "    if cols_cats:\n",
    "        df_dummies = pd.get_dummies(df[cols_cats])\n",
    "        cols_cats = df_dummies.columns\n",
    "        df_dummies[var_of_interest] = df[var_of_interest]\n",
    "        corrs_two = calc_corr(var_of_interest, df_dummies, cols_cats, (5, 10))\n",
    "    else:\n",
    "        corrs_two = 0\n",
    "    return [corrs_one, corrs_two]"
   ]
  },
  {
   "cell_type": "code",
   "execution_count": null,
   "metadata": {
    "_cell_guid": "46ba6e0e-b7b7-4bdf-ad64-d4ab3060ae62",
    "_execution_state": "idle",
    "_uuid": "1ceb0f2392b638adf147c97f8a33c54bb985d771",
    "scrolled": false
   },
   "outputs": [],
   "source": [
    "corrs_area = correlation_plot(var_of_interest, young, mapping)"
   ]
  },
  {
   "cell_type": "markdown",
   "metadata": {
    "_cell_guid": "9babcdc4-14a1-4c54-87ec-d4287a5b9d10",
    "_uuid": "207cbc31a97d1d92cf9770209ad86373ccc44241"
   },
   "source": [
    "The strongest correlations that we have are coming from the house type and it is quite logical because people in the village would live most of the time in the houses. Other correlations that are not that strong are the associations with God and Spending on looks. "
   ]
  },
  {
   "cell_type": "code",
   "execution_count": null,
   "metadata": {
    "_cell_guid": "265d1d0a-3b9b-4a1f-89bd-74076d0794b1",
    "_execution_state": "idle",
    "_uuid": "5e36d2bc1f1592a635cffe35a9b284b463a69a30"
   },
   "outputs": [],
   "source": [
    "#The strongest correlations that we have are  \n",
    "corr_num = corrs_area[0]\n",
    "corr_cats = corrs_area[1]\n",
    "display(corr_num[corr_num.corr_values == max(corr_num.corr_values)])\n",
    "display(corr_num[corr_num.corr_values == min(corr_num.corr_values)])\n",
    "display(corr_cats[corr_cats.corr_values == max(corr_cats.corr_values)])\n",
    "display(corr_cats[corr_cats.corr_values == min(corr_cats.corr_values)])"
   ]
  },
  {
   "cell_type": "markdown",
   "metadata": {
    "_cell_guid": "6c0b6562-0990-47b3-a10f-17120830878a",
    "_uuid": "e1890d8f91bf180e94803d000432280c68512134"
   },
   "source": [
    "## Multicollinearity"
   ]
  },
  {
   "cell_type": "markdown",
   "metadata": {
    "_cell_guid": "e54c1d96-cb20-42be-952f-870dd9591d5a",
    "_uuid": "28a3f3a8328f6b472411e88151408cc3484073e2"
   },
   "source": [
    "Apart from outliers and missing values, multicollinearity is another common issue. Some ML algorithms like Random Forest do not suffer from multicollinearity, whereas linear regression could have problems with it. \n",
    "\n",
    "So, it would be quite exciting to look which characteristics are correlated in our data set."
   ]
  },
  {
   "cell_type": "code",
   "execution_count": null,
   "metadata": {
    "_cell_guid": "25a61eec-152e-4cfc-a535-c85879dc2208",
    "_execution_state": "idle",
    "_uuid": "bb4f8602287879c4f724e7c3ffd92b07d06910cf"
   },
   "outputs": [],
   "source": [
    "corr = young.corr()\n",
    "\n",
    "os = (corr.where(np.triu(np.ones(corr.shape), k=1).astype(np.bool))\n",
    "                 .stack()\n",
    "                 .sort_values(ascending=False))\n",
    "display(os.head(10))\n",
    "display(os.tail(10))"
   ]
  },
  {
   "cell_type": "markdown",
   "metadata": {
    "_cell_guid": "ee948202-d135-4350-994d-be428140f437",
    "_uuid": "be9fbfd7369e5017bf522447ffda3b7b152343d2"
   },
   "source": [
    "Meanwhile lets have a look on the correlations amoung out good features."
   ]
  },
  {
   "cell_type": "code",
   "execution_count": null,
   "metadata": {
    "_cell_guid": "fe935cbb-8c8b-48e3-816a-23a085eb9b20",
    "_execution_state": "idle",
    "_uuid": "ce963b1e34f7c88591755953bc6d9fc7d4aa9976"
   },
   "outputs": [],
   "source": [
    "corr = young[good_columns].corr()\n",
    "mask = np.zeros_like(corr, dtype=np.bool)\n",
    "mask[np.triu_indices_from(mask)] = True\n",
    "f, ax = plt.subplots(figsize=(11, 9))\n",
    "cmap = sns.diverging_palette(220, 10, as_cmap=True)\n",
    "sns.heatmap(\n",
    "    corr,\n",
    "    mask=mask,\n",
    "    cmap=cmap,\n",
    "    vmax=.3,\n",
    "    center=0,\n",
    "    square=True,\n",
    "    linewidths=.5,\n",
    "    cbar_kws={\"shrink\": .5})"
   ]
  },
  {
   "cell_type": "code",
   "execution_count": null,
   "metadata": {
    "_cell_guid": "d8317416-bede-457c-8a07-5fcba5db89ae",
    "_execution_state": "idle",
    "_uuid": "b187db96bbbd956e180d886a3bfaca73ed353ed0"
   },
   "outputs": [],
   "source": [
    "print (os['Entertainment spending'])"
   ]
  },
  {
   "cell_type": "code",
   "execution_count": null,
   "metadata": {
    "_cell_guid": "e7ebb2a6-78d3-4ccb-9d52-a9597a85ecf3",
    "_execution_state": "idle",
    "_uuid": "a8dad1706ddcb5cc1a67aefd2b0dfeb4d3c82d13"
   },
   "outputs": [],
   "source": [
    "corr = young.corr()\n",
    "os = (corr.where(np.triu(np.ones(corr.shape), k=1).astype(np.bool))\n",
    "                 .stack()\n",
    "                 .sort_values(ascending=False))\n",
    "display(os[abs(os)>0.5])\n",
    "drop_colinera_cols = os[abs(os)>0.5].reset_index()['level_1']"
   ]
  },
  {
   "cell_type": "markdown",
   "metadata": {
    "_cell_guid": "dc324b01-6229-4ad9-9d2e-e0ad9ecaf8bc",
    "_uuid": "0fac64d4e431b7619d5915e13d4a5df8143e8d98"
   },
   "source": [
    "### Preparing the dataset for ML"
   ]
  },
  {
   "cell_type": "code",
   "execution_count": null,
   "metadata": {
    "_cell_guid": "f4dedcc5-3593-4a1a-ad6b-a849b39e1099",
    "_execution_state": "idle",
    "_uuid": "452bca2e5a49d5584ca5e6c724766d9efbac6acd"
   },
   "outputs": [],
   "source": [
    "clean_data = young.dropna(subset=[var_of_interest])\n",
    "features_int = [col for col in clean_data.columns if clean_data[col].dtype!='object']\n",
    "features_cats = [col for col in clean_data.columns if clean_data[col].dtype=='object']\n",
    "\n",
    "features_int = list(set(features_int) - set(drop_colinera_cols))\n",
    "print ('Number of features {:.0f}'.format(len(features_int)))"
   ]
  },
  {
   "cell_type": "markdown",
   "metadata": {
    "_cell_guid": "ebbfcb9a-3d4b-4161-9c67-374b31de8793",
    "_uuid": "46b2b72f1294881322e02e1ae55c1211a73c33da"
   },
   "source": [
    "We will impute missing values with the mean, althought there are some better solutions to do it, like imputing Height and Weight according to the Gender or taking randomly a value in the range [mean - std, mean + std]"
   ]
  },
  {
   "cell_type": "code",
   "execution_count": null,
   "metadata": {
    "_cell_guid": "c31c6f09-14de-4a00-8f76-cfb5c8991555",
    "_execution_state": "idle",
    "_uuid": "6b965870650f0bd173279adceb755ad20b766e1a"
   },
   "outputs": [],
   "source": [
    "X = clean_data[features_int]\n",
    "mean_values = X.mean(axis=0)\n",
    "X = X.apply(lambda x: x.fillna(x.mean()),axis=0)"
   ]
  },
  {
   "cell_type": "code",
   "execution_count": null,
   "metadata": {
    "_cell_guid": "45c3f7e7-ec29-436e-8df2-7f0a618076de",
    "_execution_state": "idle",
    "_uuid": "6f46ee157859814b1bf74368584003c15e04c772"
   },
   "outputs": [],
   "source": [
    "from sklearn.model_selection import train_test_split\n",
    "Y = clean_data[var_of_interest]\n",
    "for key, val in mapping[var_of_interest].items():\n",
    "    Y.replace(key,val, inplace = True)\n",
    "x_train, x_test, y_train, y_test = train_test_split(X, Y, test_size=.3, random_state=100)"
   ]
  },
  {
   "cell_type": "markdown",
   "metadata": {
    "_cell_guid": "ac5670a9-f28b-498b-b29c-75603f2cdf50",
    "_uuid": "cfbb476d92cf403a241e61e07acc171614be0396"
   },
   "source": [
    "It is also a good idea to have a look on the distrubtion once me imputed the values to be sure that we did not disrupt it."
   ]
  },
  {
   "cell_type": "code",
   "execution_count": null,
   "metadata": {
    "_cell_guid": "95646c6a-2345-4a95-9280-3d8fe196824e",
    "_execution_state": "idle",
    "_uuid": "5c945e1908a52e6e9a00c155791fe990b455cc37"
   },
   "outputs": [],
   "source": [
    "fig, ax = plt.subplots(nrows=1, ncols=2, figsize=(20,5))\n",
    "\n",
    "sns.kdeplot(X.Height,label = 'Before imputation', ax = ax[0]);\n",
    "sns.kdeplot(clean_data.Height, label = 'After imputation', ax = ax[0]);\n",
    "ax[0].set_title('Height');\n",
    "\n",
    "sns.kdeplot(X.Age,label = 'Before imputation', ax = ax[1]);\n",
    "sns.kdeplot(clean_data.Age, label = 'After imputation', ax = ax[1]);\n",
    "ax[1].set_title('Age');"
   ]
  },
  {
   "cell_type": "code",
   "execution_count": null,
   "metadata": {},
   "outputs": [],
   "source": []
  }
 ],
 "metadata": {
  "kernelspec": {
   "display_name": "Python 3",
   "language": "python",
   "name": "python3"
  },
  "language_info": {
   "codemirror_mode": {
    "name": "ipython",
    "version": 3
   },
   "file_extension": ".py",
   "mimetype": "text/x-python",
   "name": "python",
   "nbconvert_exporter": "python",
   "pygments_lexer": "ipython3",
   "version": "3.6.5"
  }
 },
 "nbformat": 4,
 "nbformat_minor": 1
}
