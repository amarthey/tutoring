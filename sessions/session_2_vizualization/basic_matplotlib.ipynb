{
 "cells": [
  {
   "cell_type": "code",
   "execution_count": null,
   "metadata": {},
   "outputs": [],
   "source": [
    "%matplotlib inline\n",
    "import matplotlib.pyplot as plt\n",
    "import numpy as np"
   ]
  },
  {
   "cell_type": "markdown",
   "metadata": {},
   "source": [
    "# Line plots\n",
    "\n",
    "**Purpose**: Showing trends in data -- usually time series data with many time points.\n",
    "\n",
    "**matplotlib function**: [`plot(x, y)`](http://matplotlib.org/api/pyplot_api.html#matplotlib.pyplot.plot)\n",
    "\n",
    "* `x`: The x-coordinates of the lines or markers.\n",
    "\n",
    "* `y`: The y-coordinates of the lines or markers."
   ]
  },
  {
   "cell_type": "code",
   "execution_count": null,
   "metadata": {},
   "outputs": [],
   "source": [
    "x = np.linspace(0, 20)\n",
    "y1 = np.sin(x)\n",
    "y2 = np.sin(x - np.pi)\n",
    "\n",
    "plt.figure()\n",
    "\n",
    "plt.plot(x, y1)\n",
    "plt.plot(x, y2)"
   ]
  },
  {
   "cell_type": "markdown",
   "metadata": {
    "collapsed": true
   },
   "source": [
    "**Commonly used parameters**:\n",
    "\n",
    "* `color`: Set the color of the line.\n",
    "\n",
    "* `linestyle`: Set the line style, e.g., solid, dashed, or none.\n",
    "\n",
    "* `linewidth`: Set the line thickness.\n",
    "\n",
    "* `marker`: Set the marker style, e.g., circles, triangles, or none.\n",
    "\n",
    "* `markersize`: Set the marker size.\n",
    "\n",
    "* `label`: Set the label for the line that will show up in the legend."
   ]
  },
  {
   "cell_type": "code",
   "execution_count": null,
   "metadata": {
    "scrolled": true
   },
   "outputs": [],
   "source": [
    "x = np.linspace(0, 20)\n",
    "y1 = np.sin(x)\n",
    "y2 = np.sin(x - np.pi)\n",
    "\n",
    "plt.figure()\n",
    "\n",
    "plt.plot(x,\n",
    "         y1,\n",
    "         color='black',\n",
    "         linestyle='-',\n",
    "         linewidth=2,\n",
    "         marker='s',\n",
    "         markersize=6,\n",
    "         label='y1')\n",
    "\n",
    "plt.plot(x,\n",
    "         y2,\n",
    "         color='gray',\n",
    "         linestyle='--',\n",
    "         linewidth=2,\n",
    "         marker='^',\n",
    "         markersize=6,\n",
    "         label='y2')\n",
    "\n",
    "plt.legend()"
   ]
  },
  {
   "cell_type": "markdown",
   "metadata": {},
   "source": [
    "# Vertical bar charts\n",
    "\n",
    "**Purpose**: Comparing categories **OR** showing temporal trends in data with few (< 4) time points.\n",
    "\n",
    "**matplotlib function**: [`bar(left, height)`](http://matplotlib.org/api/pyplot_api.html#matplotlib.pyplot.bar)\n",
    "\n",
    "* `left`: The x coordinate(s) of the left sides of the bars.\n",
    "\n",
    "* `height`: The height(s) of the bars."
   ]
  },
  {
   "cell_type": "code",
   "execution_count": null,
   "metadata": {},
   "outputs": [],
   "source": [
    "years = np.arange(2012, 2015)\n",
    "values = [2, 5, 9]\n",
    "\n",
    "plt.figure()\n",
    "\n",
    "plt.bar(years, values)"
   ]
  },
  {
   "cell_type": "markdown",
   "metadata": {},
   "source": [
    "**Commonly used parameters**:\n",
    "\n",
    "* `color`: Set the color of the bars.\n",
    "\n",
    "* `edgecolor`: Set the color of the lines on the edges of the bars.\n",
    "\n",
    "* `width`: Set the width of the bars.\n",
    "\n",
    "* `align`: Set the alignment of the bars, e.g., center them on the x coordinate(s).\n",
    "\n",
    "* `label`: Set the label for the bar that will show up in the legend."
   ]
  },
  {
   "cell_type": "code",
   "execution_count": null,
   "metadata": {},
   "outputs": [],
   "source": [
    "years = np.arange(2012, 2015)\n",
    "category1_values = [2, 5, 9]\n",
    "category2_values = [7, 6, 3]\n",
    "\n",
    "plt.figure()\n",
    "\n",
    "plt.bar(years - 0.2,\n",
    "        category1_values,\n",
    "        color='blue',\n",
    "        edgecolor='none',\n",
    "        width=0.4,\n",
    "        align='center',\n",
    "        label='y1')\n",
    "\n",
    "plt.bar(years + 0.2,\n",
    "        category2_values,\n",
    "        color='orange',\n",
    "        edgecolor='none',\n",
    "        width=0.4,\n",
    "        align='center',\n",
    "        label='y2')\n",
    "\n",
    "plt.xticks(years, [str(year) for year in years])\n",
    "\n",
    "plt.legend()"
   ]
  },
  {
   "cell_type": "markdown",
   "metadata": {},
   "source": [
    "# Horizontal bar charts\n",
    "\n",
    "**Purpose**: Comparing categories.\n",
    "\n",
    "**matplotlib function**: [`barh(bottom, width)`](http://matplotlib.org/api/pyplot_api.html#matplotlib.pyplot.barh)\n",
    "\n",
    "* `bottom`: The y coordinate(s) of the bars.\n",
    "\n",
    "* `width`: The width(s) of the bars."
   ]
  },
  {
   "cell_type": "code",
   "execution_count": null,
   "metadata": {},
   "outputs": [],
   "source": [
    "categories = ['A', 'B', 'C', 'D', 'E']\n",
    "values = [7, 12, 4, 2, 9]\n",
    "\n",
    "plt.figure()\n",
    "\n",
    "plt.barh(np.arange(len(categories)), values)\n",
    "\n",
    "plt.yticks(np.arange(len(categories)),\n",
    "           ['Category {}'.format(x) for x in categories])"
   ]
  },
  {
   "cell_type": "code",
   "execution_count": null,
   "metadata": {},
   "outputs": [],
   "source": [
    "categories = ['A', 'B', 'C', 'D', 'E']\n",
    "values = [7, 12, 4, 2, 9]\n",
    "\n",
    "plt.figure()\n",
    "\n",
    "plt.barh(-np.arange(len(categories)), values)\n",
    "\n",
    "plt.yticks(-np.arange(len(categories)),\n",
    "           ['Category {}'.format(x) for x in categories])"
   ]
  },
  {
   "cell_type": "markdown",
   "metadata": {},
   "source": [
    "**Commonly used parameters**:\n",
    "\n",
    "* `color`: Set the color of the bars.\n",
    "\n",
    "* `edgecolor`: Set the color of the lines on the edges of the bars.\n",
    "\n",
    "* `height`: Set the height of the bars.\n",
    "\n",
    "* `align`: Set the alignment of the bars, e.g., center them on the y coordinate(s)."
   ]
  },
  {
   "cell_type": "code",
   "execution_count": null,
   "metadata": {},
   "outputs": [],
   "source": [
    "categories = ['A', 'B', 'C', 'D', 'E']\n",
    "values = [7, 12, 4, 2, 9]\n",
    "\n",
    "plt.figure()\n",
    "\n",
    "plt.barh(-np.arange(len(categories)),\n",
    "         values,\n",
    "         color='blue',\n",
    "         edgecolor='none',\n",
    "         height=0.6,\n",
    "         align='center')\n",
    "\n",
    "plt.yticks(-np.arange(len(categories)),\n",
    "           ['Category {}'.format(x) for x in categories])"
   ]
  },
  {
   "cell_type": "code",
   "execution_count": null,
   "metadata": {},
   "outputs": [],
   "source": [
    "import pandas as pd\n",
    "\n",
    "categories = ['A', 'B', 'C', 'D', 'E']\n",
    "values = [7, 12, 4, 2, 9]\n",
    "\n",
    "category_values = pd.DataFrame({'categories': categories,\n",
    "                                'values': values})\n",
    "\n",
    "# Note that pandas' sort function has been deprecated in version \n",
    "# 0.17 and will be removed in a future version.\n",
    "\n",
    "# category_values.sort('values', ascending=False, inplace=True)\n",
    "category_values.sort_values(by='values', ascending=False, inplace=True)\n",
    "\n",
    "categories = category_values['categories'].values\n",
    "values = category_values['values'].values\n",
    "\n",
    "plt.figure()\n",
    "\n",
    "plt.barh(-np.arange(len(categories)),\n",
    "         values,\n",
    "         color='blue',\n",
    "         edgecolor='none',\n",
    "         height=0.6,\n",
    "         align='center')\n",
    "\n",
    "plt.yticks(-np.arange(len(categories)),\n",
    "           ['Category {}'.format(x) for x in categories])"
   ]
  },
  {
   "cell_type": "markdown",
   "metadata": {},
   "source": [
    "# Pie charts\n",
    "\n",
    "**Purpose**: Displaying a simple proportion.\n",
    "\n",
    "**matplotlib function**: [`pie(sizes)`](http://matplotlib.org/api/pyplot_api.html#matplotlib.pyplot.pie)\n",
    "\n",
    "* `sizes`: The size of the wedges as either a fraction or number."
   ]
  },
  {
   "cell_type": "code",
   "execution_count": null,
   "metadata": {},
   "outputs": [],
   "source": [
    "counts = [17, 14]\n",
    "\n",
    "plt.figure()\n",
    "\n",
    "plt.pie(counts)"
   ]
  },
  {
   "cell_type": "code",
   "execution_count": null,
   "metadata": {},
   "outputs": [],
   "source": [
    "counts = [17, 14]\n",
    "\n",
    "plt.figure(figsize=(4, 4))\n",
    "\n",
    "plt.pie(counts)"
   ]
  },
  {
   "cell_type": "markdown",
   "metadata": {},
   "source": [
    "**Commonly used parameters**:\n",
    "\n",
    "* `colors`: Set the colors of the wedges.\n",
    "\n",
    "* `labels`: Set the labels of the wedges.\n",
    "\n",
    "* `startangle`: Set the angle that the wedges start at.\n",
    "\n",
    "* `autopct`: Set the percentage display format of the wedges."
   ]
  },
  {
   "cell_type": "code",
   "execution_count": null,
   "metadata": {},
   "outputs": [],
   "source": [
    "counts = [17, 14]\n",
    "\n",
    "plt.figure(figsize=(4, 4))\n",
    "\n",
    "plt.pie(counts,\n",
    "        colors=['blue', 'orange'],\n",
    "        labels=['Category A', 'Other categories'],\n",
    "        startangle=90)"
   ]
  },
  {
   "cell_type": "markdown",
   "metadata": {},
   "source": [
    "# Scatter plots\n",
    "\n",
    "**Purpose**: Displaying relationships between variables.\n",
    "\n",
    "**matplotlib function**: [`scatter(x, y)`](http://matplotlib.org/api/pyplot_api.html#matplotlib.pyplot.scatter)\n",
    "\n",
    "* `x`, `y`: The values for the two variables."
   ]
  },
  {
   "cell_type": "code",
   "execution_count": null,
   "metadata": {},
   "outputs": [],
   "source": [
    "x = range(20)\n",
    "y = np.arange(50, 70) + (np.random.random(20) * 10.)\n",
    "\n",
    "plt.figure()\n",
    "\n",
    "plt.scatter(x, y)"
   ]
  },
  {
   "cell_type": "markdown",
   "metadata": {},
   "source": [
    "**Commonly used parameters**:\n",
    "\n",
    "* `c`: Set the color of the markers.\n",
    "\n",
    "* `s`: Set the size of the markers.\n",
    "\n",
    "* `marker`: Set the marker style, e.g., circles, triangles, or squares.\n",
    "\n",
    "* `edgecolor`: Set the color of the lines on the edges of the markers."
   ]
  },
  {
   "cell_type": "code",
   "execution_count": null,
   "metadata": {},
   "outputs": [],
   "source": [
    "x = np.arange(20)\n",
    "y = np.arange(50, 70) + (np.random.random(20) * 10.)\n",
    "\n",
    "plt.figure()\n",
    "\n",
    "plt.scatter(x,\n",
    "            y,\n",
    "            c='red',\n",
    "            s=40,\n",
    "            marker='s',\n",
    "            edgecolor='none')"
   ]
  },
  {
   "cell_type": "code",
   "execution_count": null,
   "metadata": {},
   "outputs": [],
   "source": [
    "fig, ax = plt.subplots(1, 3, figsize=(10, 3))\n",
    "ax[0].hist(np.random.normal(size=1000))\n",
    "ax[1].hist(np.random.normal(size=1000), bins=100)\n",
    "ax[2].hist(np.random.normal(size=1000), bins=\"auto\")"
   ]
  },
  {
   "cell_type": "code",
   "execution_count": null,
   "metadata": {},
   "outputs": [],
   "source": [
    "df = pd.DataFrame({'Math PhDs awareded (US)': {'2000': 1050,\n",
    "  '2001': 1010,\n",
    "  '2002': 919,\n",
    "  '2003': 993,\n",
    "  '2004': 1076,\n",
    "  '2005': 1205,\n",
    "  '2006': 1325,\n",
    "  '2007': 1393,\n",
    "  '2008': 1399,\n",
    "  '2009': 1554},\n",
    " 'Total revenue by arcades (US)': {'2000': 1196000000,\n",
    "  '2001': 1176000000,\n",
    "  '2002': 1269000000,\n",
    "  '2003': 1240000000,\n",
    "  '2004': 1307000000,\n",
    "  '2005': 1435000000,\n",
    "  '2006': 1601000000,\n",
    "  '2007': 1654000000,\n",
    "  '2008': 1803000000,\n",
    "  '2009': 1734000000}})"
   ]
  },
  {
   "cell_type": "code",
   "execution_count": null,
   "metadata": {},
   "outputs": [],
   "source": [
    "# could also do df.plot()\n",
    "phds = df['Math PhDs awareded (US)']\n",
    "revenue = df['Total revenue by arcades (US)']\n",
    "years = df.index\n",
    "\n",
    "plt.figure()\n",
    "ax1 = plt.gca()\n",
    "line1, = ax1.plot(years, phds)\n",
    "line2, = ax1.plot(years, revenue, c='r')\n",
    "plt.legend((line1, line2), (\"math PhDs awarded\", \"revenue by arcades\"))"
   ]
  },
  {
   "cell_type": "code",
   "execution_count": null,
   "metadata": {},
   "outputs": [],
   "source": [
    "plt.figure()\n",
    "ax1 = plt.gca()\n",
    "line1, = ax1.plot(years, phds)\n",
    "ax2 = ax1.twinx()\n",
    "line2, = ax2.plot(years, revenue, c='r')\n",
    "plt.legend((line1, line2), (\"math PhDs awarded\", \"revenue by arcades\"))\n",
    "ax1.set_ylabel(\"Math PhDs awarded\")\n",
    "ax2.set_ylabel(\"revenue by arcades\")"
   ]
  },
  {
   "cell_type": "code",
   "execution_count": null,
   "metadata": {},
   "outputs": [],
   "source": [
    "x = np.random.uniform(size=50)\n",
    "y = x + np.random.normal(0, .1, size=50)\n",
    "\n",
    "fig, ax = plt.subplots(2, 2, figsize=(5, 5),\n",
    "                       subplot_kw={'xticks': (), 'yticks': ()})\n",
    "ax[0, 0].scatter(x, y)\n",
    "ax[0, 0].set_title(\"scatter\")\n",
    "ax[0, 1].plot(x, y, 'o')\n",
    "ax[0, 1].set_title(\"plot\")\n",
    "ax[1, 0].scatter(x, y, c=x-y, cmap='bwr', edgecolor='k')\n",
    "ax[1, 1].scatter(x, y, c=x-y, s=np.abs(np.random.normal(scale=20, size=50)), cmap='bwr', edgecolor='k')\n",
    "plt.tight_layout()"
   ]
  },
  {
   "cell_type": "code",
   "execution_count": null,
   "metadata": {},
   "outputs": [],
   "source": []
  }
 ],
 "metadata": {
  "kernelspec": {
   "display_name": "Python 3",
   "language": "python",
   "name": "python3"
  },
  "language_info": {
   "codemirror_mode": {
    "name": "ipython",
    "version": 3
   },
   "file_extension": ".py",
   "mimetype": "text/x-python",
   "name": "python",
   "nbconvert_exporter": "python",
   "pygments_lexer": "ipython3",
   "version": "3.6.5"
  }
 },
 "nbformat": 4,
 "nbformat_minor": 1
}
